{
 "cells": [
  {
   "cell_type": "code",
   "execution_count": null,
   "metadata": {},
   "outputs": [],
   "source": [
    "#% pip install openpyxl\n",
    "import pandas as pd\n",
    "import matplotlib.pyplot as plt\n",
    "import numpy as np\n",
    "from globals import glob\n",
    "from utilities_plotting import plot_scatter\n",
    "from utilities_database import prepare_database\n",
    "import sys\n",
    "sys.path.append(\"../tools/\")\n",
    "import _db_tools as db\n",
    "####Helper Functions####\n",
    "def RyR(df: pd.DataFrame) -> pd.DataFrame:\n",
    "    \"\"\" Calculates the RyR values for both fibers and provides a qualitative evaluation for each value.\n",
    "    Parameters:\n",
    "    - df (pd.DataFrame): The input DataFrame containing fiber measurements.\n",
    "    Returns:\n",
    "    Tuple[pd.DataFrame, pd.DataFrame]: A tuple containing two DataFrames:\n",
    "    - The first DataFrame (dfx) contains the RyR values for fiber x.\n",
    "    - The second DataFrame (dfy) contains the RyR values for fiber y.\n",
    "    For each fiber, the function calculates the RyR (Range-to-Range) values as a percentage of the standard deviation\n",
    "    and the difference between the last and second-to-last columns in the input DataFrame. It then prints a qualitative\n",
    "    evaluation of each RyR value for both fibers.\n",
    "    Qualitative Evaluation:\n",
    "    - \"Correct\" if RyR <= 10.\n",
    "    - \"Low fail\" if 10 < RyR <= 25.\n",
    "    - \"High fail\" if RyR > 25.\"\"\"\n",
    "    i = 0; df_RyR = [] #Preallocate a counter and an empty dataframe where to add the rows\n",
    "    std = df.iloc[:, :-2].std(axis=1) #Standard deviation for each row, excluding limits\n",
    "    for index in range(df.shape[0]):\n",
    "        i+= 1\n",
    "        RyR = (6*std.iloc[index]/(df.iloc[index,-1]-df.iloc[index,-2]))*100 #Calculates RyR for the whole dataframe\n",
    "        df_RyR.append(float(RyR)) #Adds the values of RyR to a ndarray\n",
    "    df_RyR = pd.DataFrame(df_RyR) #Builds a new dataframe with the RyR values\n",
    "    x_fiber = df_RyR[df_RyR.index % 2 != 0] #Indexes the fiber x RyR values in a new dataframe\n",
    "    y_fiber = df_RyR[df_RyR.index % 2 == 0] #Indexes the fiber y RyR values in a new dataframe\n",
    "    dfx = pd.DataFrame(x_fiber).reset_index(drop=True) #Resets row index\n",
    "    dfy = pd.DataFrame(y_fiber).reset_index(drop=True) #Resets row index\n",
    "    for i, _ in enumerate(range(dfx.shape[0])): #Prints the dataframe for fiber x row by row indexing with the counter\n",
    "        Pass = \"Correct\" if dfx.iloc[i, 0] <= 10 else (\"Low fail\" if 10 <= dfx.iloc[i, 0] <= 25 else \"High fail\")\n",
    "        print(f'RyR Guide fbx {dfx.index[i]+1}: ' + str(dfx.iloc[i, 0]) +' %' + ' Status: ' + Pass)\n",
    "    print(\"\")\n",
    "    for i, _ in enumerate(range(dfy.shape[0])): #Prints the dataframe for fiber y row by row\n",
    "        Pass = \"Correct\" if dfy.iloc[i, 0] <= 10 else (\"Low fail\" if 10 <= dfy.iloc[i, 0] <= 25 else \"High fail\")\n",
    "        print(f'RyR Guide fby {dfy.index[i]+1}: ' + str(dfy.iloc[i, 0]) +' %' + ' Status: ' + Pass)\n",
    "    return dfx, dfy\n",
    "\n",
    "def z_score_filter(df: pd.DataFrame, threshold: int) -> pd.DataFrame:\n",
    "    \"\"\"Applies a z-score filter to a DataFrame, removing values that do not meet the specified threshold.\n",
    "    Parameters:\n",
    "    - df (pd.DataFrame): The input DataFrame containing the measurements and limits.\n",
    "    - threshold (float): The z-score threshold. Values exceeding this threshold will be replaced with NaN.\n",
    "    Returns:\n",
    "    pd.DataFrame: A new DataFrame with values that pass the z-score filter, while retaining the original limits columns.\n",
    "    For each row in the input DataFrame, the function calculates the z-scores for the measurement values and\n",
    "    replaces values with z-scores greater than the specified threshold with NaN. The original limits columns are retained.\n",
    "    \"\"\"\n",
    "    rows = []\n",
    "    measures = df.iloc[:, :-2]  #Indexes the measurements\n",
    "    limits = df.iloc[:, -2:]  #Indexes the limits\n",
    "    for row_idx in range(measures.shape[0]):  # Iterates over the rows\n",
    "        row = measures.iloc[row_idx, :]\n",
    "        if row.std() == 0: #If the standard deviation is zero, don't calculate z-scores and keep the original values\n",
    "            filtered_row = row\n",
    "        else:\n",
    "            z_scores = (row - row.mean()) / row.std()  #Calculates the z-score\n",
    "            filtered_row = np.where(abs(z_scores) <= threshold, row, np.nan)  #Applies the threshold as a filter\n",
    "        rows.append(filtered_row)\n",
    "    filtered_df = pd.DataFrame(rows)  #Builds a new DataFrame\n",
    "    filtered_df = pd.concat([filtered_df, limits], axis=1)  #Adds back the columns\n",
    "    return filtered_df"
   ]
  },
  {
   "cell_type": "code",
   "execution_count": null,
   "metadata": {},
   "outputs": [],
   "source": [
    "#Data preparation\n",
    "dbh = db.SQLite_Data_Extractor(\"database.db\") #Connect to the database\n",
    "measurements = dbh.retrieve(glob.tooling) #Get the desired tooling data\n",
    "limits = dbh.retrieve(glob.tooling+\"_limits\") #Get the desired tooling data\n",
    "dbh.close_conn() "
   ]
  },
  {
   "attachments": {},
   "cell_type": "markdown",
   "metadata": {},
   "source": [
    "RyR calculation"
   ]
  },
  {
   "cell_type": "code",
   "execution_count": null,
   "metadata": {},
   "outputs": [],
   "source": [
    "#Slice the dataframe to obtain only the measures and limits for each fiber\n",
    "measurements_and_limits = pd.concat([measurements, limits], axis=1) #Gets both the measure and limits\n",
    "\"\"\" df_plus_limits = df_plus_limits.reset_index(drop=True) #Resets the rows index to start in zero again\n",
    "df_plus_limits.columns = range(df_plus_limits.shape[1]) #Resets the columns index to start in zero again \"\"\"\n",
    "#Generate a RyR for each fiber in every scale\n",
    "RyRx, RyRy = RyR(measurements_and_limits)"
   ]
  },
  {
   "attachments": {},
   "cell_type": "markdown",
   "metadata": {},
   "source": [
    "Distribution Fitting"
   ]
  },
  {
   "cell_type": "code",
   "execution_count": null,
   "metadata": {},
   "outputs": [],
   "source": [
    "array = measurements.values #Creates a ndarray with the values of the dataframe\n",
    "positions = []\n",
    "for i, position in enumerate(range(glob.lenses_per_nest*2)):\n",
    "    position = array[i::glob.lenses_per_nest*2].reshape(-1, 1)\n",
    "    positions.append(position)\n",
    "values_per_position = result_array = np.concatenate(positions, axis=1).reshape(glob.lenses_per_nest*2, -1)\n",
    "fig, axes = plt.subplots(int(glob.lenses_per_nest*2/3), 3, figsize=(15, 10)) #subplots\n",
    "for i in range(glob.lenses_per_nest*2): #Subplots definitions\n",
    "    row, col = divmod(i, 3)\n",
    "    ax = axes[row, col]\n",
    "    ax.hist(values_per_position[i, :], 120)\n",
    "    ax.set_title(f'LED Position{i + 1}')\n",
    "plt.tight_layout()\n",
    "plt.show()"
   ]
  },
  {
   "cell_type": "markdown",
   "metadata": {},
   "source": [
    "Z-score filtering of outliers"
   ]
  },
  {
   "cell_type": "markdown",
   "metadata": {},
   "source": [
    "![title](../media/Z-score.jpg)"
   ]
  },
  {
   "cell_type": "code",
   "execution_count": null,
   "metadata": {},
   "outputs": [],
   "source": [
    "#Filter values by their row z-score\n",
    "z_df = z_score_filter(measurements_and_limits, 1)\n",
    "#Plot the filtered values\n",
    "plot_scatter(z_df.iloc[:, :-2], 'Scatter Plot, fiber X', 'test', 'MEAS', 'Fiber: ', filter='x')\n",
    "plot_scatter(z_df.iloc[:, :-2], 'Scatter Plot, fiber Y', 'test', 'MEAS', 'Fiber: ', filter='y')"
   ]
  },
  {
   "cell_type": "code",
   "execution_count": null,
   "metadata": {},
   "outputs": [],
   "source": [
    "#Split the dataframe for x fiber and y fiber\n",
    "x_fiber = z_df.loc[z_df.index % 2 == 0]\n",
    "y_fiber = z_df.loc[z_df.index % 2 != 0]\n",
    "#Calculate the new RyR\n",
    "RyRx_filtered, RyRy_filtered = RyR(z_df)"
   ]
  },
  {
   "cell_type": "code",
   "execution_count": null,
   "metadata": {},
   "outputs": [],
   "source": [
    "##Add both RyR to the database\n",
    "confirmation = input(\"Do you want to export the new RyR to your database? (y/n): \").strip().lower()\n",
    "if confirmation == 'y':\n",
    "    RYR = pd.concat([RyRx, RyRy], axis=0).reset_index(drop=True)\n",
    "    RYR_filtered = pd.concat([RyRx_filtered, RyRy_filtered], axis=0).reset_index(drop=True)\n",
    "    prepare_database(RYR, glob.tooling+\"_RyR\") #Store a df inside the database of the project\n",
    "    prepare_database(RYR_filtered, glob.tooling+\"_RyR_filtered\") #Store a df inside the database of the project\n",
    "else:\n",
    "    print(\"Operation canceled.\")"
   ]
  }
 ],
 "metadata": {
  "kernelspec": {
   "display_name": "Python 3",
   "language": "python",
   "name": "python3"
  },
  "language_info": {
   "codemirror_mode": {
    "name": "ipython",
    "version": 3
   },
   "file_extension": ".py",
   "mimetype": "text/x-python",
   "name": "python",
   "nbconvert_exporter": "python",
   "pygments_lexer": "ipython3",
   "version": "3.11.5"
  },
  "orig_nbformat": 4
 },
 "nbformat": 4,
 "nbformat_minor": 2
}
