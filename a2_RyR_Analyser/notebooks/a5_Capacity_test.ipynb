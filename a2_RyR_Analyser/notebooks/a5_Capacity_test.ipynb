{
 "cells": [
  {
   "cell_type": "code",
   "execution_count": null,
   "metadata": {},
   "outputs": [],
   "source": [
    "#% pip install openpyxl\n",
    "import pandas as pd\n",
    "import sqlite3\n",
    "import matplotlib.pyplot as plt\n",
    "from globals import glob\n",
    "from utilities import plot_scatter\n",
    "import sys\n",
    "sys.path.append(\"../tools/\")\n",
    "import _db_tools as db #Personal tool for managing sqlite databases in data science"
   ]
  },
  {
   "cell_type": "code",
   "execution_count": null,
   "metadata": {},
   "outputs": [],
   "source": []
  }
 ],
 "metadata": {
  "language_info": {
   "name": "python"
  }
 },
 "nbformat": 4,
 "nbformat_minor": 2
}
