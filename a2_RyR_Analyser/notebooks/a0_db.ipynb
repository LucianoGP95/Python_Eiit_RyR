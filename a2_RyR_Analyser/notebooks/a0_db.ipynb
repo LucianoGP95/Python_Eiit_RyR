{
 "cells": [
  {
   "cell_type": "markdown",
   "metadata": {},
   "source": [
    "Creates the database of the toolings by extracting the output file using RyR Generator target files"
   ]
  },
  {
   "cell_type": "code",
   "execution_count": 5,
   "metadata": {},
   "outputs": [],
   "source": [
    "import os, sys, re\n",
    "from globals import glob\n",
    "from utilities_database import prepare_data, prepare_database, consult_database, clear_database, retrieve_data, rename_limits_table\n",
    "sys.path.append(\"../tools/\")\n",
    "import _db_tools as db #Personal tool for managing sqlite databases in data science"
   ]
  },
  {
   "cell_type": "code",
   "execution_count": 6,
   "metadata": {},
   "outputs": [
    {
     "name": "stdout",
     "output_type": "stream",
     "text": [
      "Files ready for storage:\n",
      "    TOP_PASSAT_B9_2023y-11m-14d_17h-21m-03s.xlsx\n",
      "\n",
      "\n"
     ]
    }
   ],
   "source": [
    "#File filtering\n",
    "extension = \"xlsx\"\n",
    "file_list = os.listdir(\"../a1_input/\")\n",
    "filtered_list = [filename for filename in file_list if filename.endswith(extension)]\n",
    "print(\"Files ready for storage:\")\n",
    "for file in filtered_list:\n",
    "    print(f\"    {file}\")\n",
    "print(\"\\n\")"
   ]
  },
  {
   "cell_type": "code",
   "execution_count": 10,
   "metadata": {},
   "outputs": [
    {
     "name": "stdout",
     "output_type": "stream",
     "text": [
      "Dataframe stored as *TOP_PASSAT_B9_2023y_11m_14d_17h_21m_03s*\n",
      "Dataframe stored as *TOP_PASSAT_B9_2023y_11m_14d_17h_21m_03s_limits*\n",
      "Limit files renamed for clarity.\n",
      "*input.db* actual contents:\n",
      "    limits_TOP_PASSAT_B9_2023y_11m_14d_17h_21m_03s\n",
      "    TOP_PASSAT_B9_2023y_11m_14d_17h_21m_03s\n",
      "    TOP_PASSAT_B9_limits_2023y_11m_14d_17h_21m_03s\n"
     ]
    }
   ],
   "source": [
    "#Database generation\n",
    "confirmation = input(\"You are going to modify the database. Are you sure you wrote the correct tooling in the globals file? (y/n): \").strip().lower()\n",
    "filepaths = []; filepaths_limits = []\n",
    "if confirmation == 'y':\n",
    "    for file in filtered_list:\n",
    "        filepath = os.path.join(os.path.abspath(\"../a1_input/\"), file)\n",
    "        MEAS = prepare_data(filepath, filter=\"measurements\") #Load the output from RyR_Generator into a df\n",
    "        LIMITS = prepare_data(filepath, filter=\"limits\") #Load the output from RyR_Generator into a df\n",
    "        file, _ = os.path.splitext(file)\n",
    "        file = re.sub(r'\\W', '_', file)\n",
    "        prepare_database(\"input.db\", MEAS, file) #Store a df for the measures inside the database of the project\n",
    "        prepare_database(\"input.db\", LIMITS, file+\"_limits\") #Store a df for the limits inside the database of the project\n",
    "        limits_file = rename_limits_table(\"input.db\", file+\"_limits\")\n",
    "        filepaths.append(file); filepaths_limits.append(limits_file)\n",
    "    print(\"Limit files renamed for clarity.\")\n",
    "    consult_database(\"input.db\")\n",
    "else:\n",
    "    print(\"Operation canceled.\")"
   ]
  },
  {
   "cell_type": "code",
   "execution_count": 11,
   "metadata": {},
   "outputs": [
    {
     "name": "stdout",
     "output_type": "stream",
     "text": [
      "Latest tables: \n",
      "['TOP_PASSAT_B9_2023y_11m_14d_17h_21m_03s', 'TOP_PASSAT_B9_limits_2023y_11m_14d_17h_21m_03s']\n",
      "Table *TOP_PASSAT_B9_2023y_11m_14d_17h_21m_03s* retrieved succesfully.\n",
      "Table *TOP_PASSAT_B9_limits_2023y_11m_14d_17h_21m_03s* retrieved succesfully.\n"
     ]
    },
    {
     "data": {
      "text/plain": [
       "' print(data_name)\\nprint(data_name)\\ndbh = db.SQLite_Data_Extractor(\"database.db\") #Connect to the database\\ndbh.rename_table(data_name, glob.tooling)\\ndbh.consult_tables()\\ndbh.examine_table(glob.tooling)\\ndbh.close_conn()  '"
      ]
     },
     "execution_count": 11,
     "metadata": {},
     "output_type": "execute_result"
    }
   ],
   "source": [
    "#Database management\n",
    "table_names = [filepaths[0], filepaths_limits[0]]\n",
    "print(\"Latest tables: \")\n",
    "print(table_names)\n",
    "measurements = retrieve_data(\"input.db\", table_names[0])\n",
    "limits = retrieve_data(\"input.db\", table_names[1])\n",
    "\"\"\" print(data_name)\n",
    "print(data_name)\n",
    "dbh = db.SQLite_Data_Extractor(\"database.db\") #Connect to the database\n",
    "dbh.rename_table(data_name, glob.tooling)\n",
    "dbh.consult_tables()\n",
    "dbh.examine_table(glob.tooling)\n",
    "dbh.close_conn()  \"\"\""
   ]
  },
  {
   "cell_type": "code",
   "execution_count": 4,
   "metadata": {},
   "outputs": [
    {
     "name": "stdout",
     "output_type": "stream",
     "text": [
      "Database *input.db* cleared successfully.\n",
      "Database *output.db* cleared successfully.\n"
     ]
    }
   ],
   "source": [
    "clear_database(\"input.db\")\n",
    "clear_database(\"output.db\")"
   ]
  }
 ],
 "metadata": {
  "kernelspec": {
   "display_name": "Python 3",
   "language": "python",
   "name": "python3"
  },
  "language_info": {
   "codemirror_mode": {
    "name": "ipython",
    "version": 3
   },
   "file_extension": ".py",
   "mimetype": "text/x-python",
   "name": "python",
   "nbconvert_exporter": "python",
   "pygments_lexer": "ipython3",
   "version": "3.11.4"
  },
  "orig_nbformat": 4
 },
 "nbformat": 4,
 "nbformat_minor": 2
}
