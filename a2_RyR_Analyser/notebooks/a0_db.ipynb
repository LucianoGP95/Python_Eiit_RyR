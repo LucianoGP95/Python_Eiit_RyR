{
 "cells": [
  {
   "cell_type": "markdown",
   "metadata": {},
   "source": [
    "Creates the database of the toolings by extracting the output file using RyR Generator target files"
   ]
  },
  {
   "cell_type": "code",
   "execution_count": 23,
   "metadata": {},
   "outputs": [],
   "source": [
    "import os, sys, re\n",
    "from globals import glob\n",
    "from utilities import prepare_data, prepare_database, consult_database, clear_database\n",
    "sys.path.append(\"../tools/\")\n",
    "import _db_tools as db #Personal tool for managing sqlite databases in data science"
   ]
  },
  {
   "cell_type": "code",
   "execution_count": 24,
   "metadata": {},
   "outputs": [
    {
     "name": "stdout",
     "output_type": "stream",
     "text": [
      "Files ready for storage:\n",
      "    TOP_PASSAT_B9_2023y-11m-14d_17h-21m-03s.xlsx\n"
     ]
    }
   ],
   "source": [
    "#File filtering\n",
    "extension = \"xlsx\"\n",
    "file_list = os.listdir(\"../a1_input/\")\n",
    "filtered_list = [filename for filename in file_list if filename.endswith(extension)]\n",
    "print(\"Files ready for storage:\")\n",
    "for file in filtered_list:\n",
    "    print(f\"    {file}\")"
   ]
  },
  {
   "cell_type": "code",
   "execution_count": 25,
   "metadata": {},
   "outputs": [
    {
     "name": "stdout",
     "output_type": "stream",
     "text": [
      "Connected to c:\\Users\\luciano.galan\\Desktop\\Code\\Python_Eiit_RyR\\a2_RyR_Analyser\\database\\database.db\n",
      "Dataframe stored as *TOP_PASSAT_B9_2023y_11m_14d_17h_21m_03s_xlsx*\n",
      "Closed connection to: c:\\Users\\luciano.galan\\Desktop\\Code\\Python_Eiit_RyR\\a2_RyR_Analyser\\database\\database.db\n",
      "Connected to c:\\Users\\luciano.galan\\Desktop\\Code\\Python_Eiit_RyR\\a2_RyR_Analyser\\database\\database.db\n",
      "Dataframe stored as *TOP_PASSAT_B9_2023y_11m_14d_17h_21m_03s_xlsx_limits*\n",
      "Closed connection to: c:\\Users\\luciano.galan\\Desktop\\Code\\Python_Eiit_RyR\\a2_RyR_Analyser\\database\\database.db\n",
      "Connected to c:\\Users\\luciano.galan\\Desktop\\Code\\Python_Eiit_RyR\\a2_RyR_Analyser\\database\\database.db\n",
      "database.db actual contents:\n",
      "    TOP_Passat_B9\n",
      "    TOP_PASSAT_B9_2023y_11m_14d_17h_21m_03s_xlsx\n",
      "    TOP_PASSAT_B9_2023y_11m_14d_17h_21m_03s_xlsx_limits\n",
      "Closed connection to: c:\\Users\\luciano.galan\\Desktop\\Code\\Python_Eiit_RyR\\a2_RyR_Analyser\\database\\database.db\n"
     ]
    }
   ],
   "source": [
    "#Database generation\n",
    "confirmation = input(\"You are going to modify the database. Are you sure you wrote the correct tooling in the globals file? (y/n): \").strip().lower()\n",
    "if confirmation == 'y':\n",
    "    for file in filtered_list:\n",
    "        filepath = os.path.join(os.path.abspath(\"../a1_input/\"), file)\n",
    "        MEAS = prepare_data(filepath, filter=\"MEAS\") #Load the output from RyR_Generator into a df\n",
    "        LIMITS = prepare_data(filepath, filter=\"limits\") #Load the output from RyR_Generator into a df\n",
    "        prepare_database(\"database.db\", MEAS, file) #Store a df for the measures inside the database of the project\n",
    "        prepare_database(\"database.db\", LIMITS, file+\"_limits\") #Store a df for the limits inside the database of the project\n",
    "    consult_database(\"database.db\")\n",
    "else:\n",
    "    print(\"Operation canceled.\")"
   ]
  },
  {
   "cell_type": "code",
   "execution_count": 26,
   "metadata": {},
   "outputs": [
    {
     "name": "stdout",
     "output_type": "stream",
     "text": [
      "TOP_PASSAT_B9_2023y-11m-14d_17h-21m-03s.xlsx\n",
      "TOP_PASSAT_B9_2023y_11m_14d_17h_21m_03s_xlsx\n",
      "Database *database.db* found in: c:\\Users\\luciano.galan\\Desktop\\Code\\Python_Eiit_RyR\\a2_RyR_Analyser\\database\\database.db\n"
     ]
    },
    {
     "ename": "Exception",
     "evalue": "Error while renaming table: there is already another table or index with this name: TOP_Passat_B9",
     "output_type": "error",
     "traceback": [
      "\u001b[1;31m---------------------------------------------------------------------------\u001b[0m",
      "\u001b[1;31mOperationalError\u001b[0m                          Traceback (most recent call last)",
      "File \u001b[1;32mc:\\Users\\luciano.galan\\Desktop\\Code\\Python_Eiit_RyR\\a2_RyR_Analyser\\notebooks\\../tools\\_db_tools.py:31\u001b[0m, in \u001b[0;36mSQLite_Handler.rename_table\u001b[1;34m(self, old_name, new_name)\u001b[0m\n\u001b[0;32m     30\u001b[0m \u001b[39mtry\u001b[39;00m:\n\u001b[1;32m---> 31\u001b[0m     \u001b[39mself\u001b[39m\u001b[39m.\u001b[39mcursor\u001b[39m.\u001b[39mexecute(\u001b[39mf\u001b[39m\u001b[39m\"\u001b[39m\u001b[39mALTER TABLE \u001b[39m\u001b[39m{\u001b[39;00mold_name\u001b[39m}\u001b[39;00m\u001b[39m RENAME TO \u001b[39m\u001b[39m{\u001b[39;00mnew_name\u001b[39m}\u001b[39;00m\u001b[39m;\u001b[39m\u001b[39m\"\u001b[39m)\n\u001b[0;32m     32\u001b[0m     \u001b[39mself\u001b[39m\u001b[39m.\u001b[39mconn\u001b[39m.\u001b[39mcommit()\n",
      "\u001b[1;31mOperationalError\u001b[0m: there is already another table or index with this name: TOP_Passat_B9",
      "\nDuring handling of the above exception, another exception occurred:\n",
      "\u001b[1;31mException\u001b[0m                                 Traceback (most recent call last)",
      "\u001b[1;32mc:\\Users\\luciano.galan\\Desktop\\Code\\Python_Eiit_RyR\\a2_RyR_Analyser\\notebooks\\a0_db.ipynb Cell 5\u001b[0m line \u001b[0;36m6\n\u001b[0;32m      <a href='vscode-notebook-cell:/c%3A/Users/luciano.galan/Desktop/Code/Python_Eiit_RyR/a2_RyR_Analyser/notebooks/a0_db.ipynb#W4sZmlsZQ%3D%3D?line=3'>4</a>\u001b[0m \u001b[39mprint\u001b[39m(data_name)\n\u001b[0;32m      <a href='vscode-notebook-cell:/c%3A/Users/luciano.galan/Desktop/Code/Python_Eiit_RyR/a2_RyR_Analyser/notebooks/a0_db.ipynb#W4sZmlsZQ%3D%3D?line=4'>5</a>\u001b[0m dbh \u001b[39m=\u001b[39m db\u001b[39m.\u001b[39mSQLite_Data_Extractor(\u001b[39m\"\u001b[39m\u001b[39mdatabase.db\u001b[39m\u001b[39m\"\u001b[39m) \u001b[39m#Connect to the database\u001b[39;00m\n\u001b[1;32m----> <a href='vscode-notebook-cell:/c%3A/Users/luciano.galan/Desktop/Code/Python_Eiit_RyR/a2_RyR_Analyser/notebooks/a0_db.ipynb#W4sZmlsZQ%3D%3D?line=5'>6</a>\u001b[0m dbh\u001b[39m.\u001b[39;49mrename_table(data_name, glob\u001b[39m.\u001b[39;49mtooling)\n\u001b[0;32m      <a href='vscode-notebook-cell:/c%3A/Users/luciano.galan/Desktop/Code/Python_Eiit_RyR/a2_RyR_Analyser/notebooks/a0_db.ipynb#W4sZmlsZQ%3D%3D?line=6'>7</a>\u001b[0m dbh\u001b[39m.\u001b[39mconsult_tables()\n\u001b[0;32m      <a href='vscode-notebook-cell:/c%3A/Users/luciano.galan/Desktop/Code/Python_Eiit_RyR/a2_RyR_Analyser/notebooks/a0_db.ipynb#W4sZmlsZQ%3D%3D?line=7'>8</a>\u001b[0m dbh\u001b[39m.\u001b[39mexamine_table(glob\u001b[39m.\u001b[39mtooling)\n",
      "File \u001b[1;32mc:\\Users\\luciano.galan\\Desktop\\Code\\Python_Eiit_RyR\\a2_RyR_Analyser\\notebooks\\../tools\\_db_tools.py:281\u001b[0m, in \u001b[0;36mSQLite_Data_Extractor.rename_table\u001b[1;34m(self, old_name, new_name)\u001b[0m\n\u001b[0;32m    280\u001b[0m \u001b[39mdef\u001b[39;00m \u001b[39mrename_table\u001b[39m(\u001b[39mself\u001b[39m, old_name, new_name):\n\u001b[1;32m--> 281\u001b[0m     \u001b[39msuper\u001b[39;49m()\u001b[39m.\u001b[39;49mrename_table(old_name, new_name)\n",
      "File \u001b[1;32mc:\\Users\\luciano.galan\\Desktop\\Code\\Python_Eiit_RyR\\a2_RyR_Analyser\\notebooks\\../tools\\_db_tools.py:35\u001b[0m, in \u001b[0;36mSQLite_Handler.rename_table\u001b[1;34m(self, old_name, new_name)\u001b[0m\n\u001b[0;32m     33\u001b[0m     \u001b[39mprint\u001b[39m(\u001b[39mf\u001b[39m\u001b[39m\"\u001b[39m\u001b[39mTable *\u001b[39m\u001b[39m{\u001b[39;00mold_name\u001b[39m}\u001b[39;00m\u001b[39m* renamed to *\u001b[39m\u001b[39m{\u001b[39;00mnew_name\u001b[39m}\u001b[39;00m\u001b[39m*\u001b[39m\u001b[39m\"\u001b[39m)\n\u001b[0;32m     34\u001b[0m \u001b[39mexcept\u001b[39;00m \u001b[39mException\u001b[39;00m \u001b[39mas\u001b[39;00m e:\n\u001b[1;32m---> 35\u001b[0m     \u001b[39mraise\u001b[39;00m \u001b[39mException\u001b[39;00m(\u001b[39mf\u001b[39m\u001b[39m\"\u001b[39m\u001b[39mError while renaming table: \u001b[39m\u001b[39m{\u001b[39;00m\u001b[39mstr\u001b[39m(e)\u001b[39m}\u001b[39;00m\u001b[39m\"\u001b[39m)\n",
      "\u001b[1;31mException\u001b[0m: Error while renaming table: there is already another table or index with this name: TOP_Passat_B9"
     ]
    }
   ],
   "source": [
    "#Database management\n",
    "print(file)\n",
    "data_name = re.sub(r'\\W', '_', file)\n",
    "print(data_name)\n",
    "dbh = db.SQLite_Data_Extractor(\"database.db\") #Connect to the database\n",
    "dbh.rename_table(data_name, glob.tooling)\n",
    "dbh.consult_tables()\n",
    "dbh.examine_table(glob.tooling)\n",
    "dbh.close_conn() "
   ]
  },
  {
   "cell_type": "code",
   "execution_count": 27,
   "metadata": {},
   "outputs": [
    {
     "name": "stdout",
     "output_type": "stream",
     "text": [
      "Connected to c:\\Users\\luciano.galan\\Desktop\\Code\\Python_Eiit_RyR\\a2_RyR_Analyser\\database\\database.db\n",
      "Database *database.db* cleared successfully.\n",
      "Closed connection to: c:\\Users\\luciano.galan\\Desktop\\Code\\Python_Eiit_RyR\\a2_RyR_Analyser\\database\\database.db\n"
     ]
    }
   ],
   "source": [
    "clear_database(\"database.db\")"
   ]
  }
 ],
 "metadata": {
  "kernelspec": {
   "display_name": "Python 3",
   "language": "python",
   "name": "python3"
  },
  "language_info": {
   "codemirror_mode": {
    "name": "ipython",
    "version": 3
   },
   "file_extension": ".py",
   "mimetype": "text/x-python",
   "name": "python",
   "nbconvert_exporter": "python",
   "pygments_lexer": "ipython3",
   "version": "3.11.4"
  },
  "orig_nbformat": 4
 },
 "nbformat": 4,
 "nbformat_minor": 2
}
