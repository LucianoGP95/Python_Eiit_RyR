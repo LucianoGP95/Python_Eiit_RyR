{
 "cells": [
  {
   "cell_type": "code",
   "execution_count": null,
   "metadata": {},
   "outputs": [],
   "source": [
    "#% pip install openpyxl\n",
    "import pandas as pd\n",
    "import sqlite3\n",
    "import matplotlib.pyplot as plt\n",
    "from globals import glob\n",
    "from utilities import plot_scatter\n",
    "import sys\n",
    "sys.path.append(\"../tools/\")\n",
    "import _db_tools as db #Personal tool for managing sqlite databases in data science"
   ]
  },
  {
   "cell_type": "code",
   "execution_count": 12,
   "metadata": {},
   "outputs": [],
   "source": [
    "string = \"TOP_PASSAT_B9_2023y_11m_14d_17h_21m_03s_limits\"\n",
    "parts = string.split(\"_\")\n",
    "first_part = parts[:-7]\n",
    "date = parts[-7:-1]\n",
    "last_part = [parts[-1]]\n",
    "new_name = first_part + last_part + date\n",
    "new_name = \"_\".join(new_name)"
   ]
  }
 ],
 "metadata": {
  "kernelspec": {
   "display_name": "Python 3",
   "language": "python",
   "name": "python3"
  },
  "language_info": {
   "codemirror_mode": {
    "name": "ipython",
    "version": 3
   },
   "file_extension": ".py",
   "mimetype": "text/x-python",
   "name": "python",
   "nbconvert_exporter": "python",
   "pygments_lexer": "ipython3",
   "version": "3.11.4"
  }
 },
 "nbformat": 4,
 "nbformat_minor": 2
}
