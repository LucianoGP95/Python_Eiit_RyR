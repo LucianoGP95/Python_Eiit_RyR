{
 "cells": [
  {
   "cell_type": "code",
   "execution_count": 1,
   "metadata": {},
   "outputs": [
    {
     "name": "stdout",
     "output_type": "stream",
     "text": [
      "Database *input.db* found in: c:\\Users\\lucio\\Desktop\\Codebase\\Python_Eiit_RyR\\a2_Analyser\\database\\input.db\n",
      "Database *output.db* found in: c:\\Users\\lucio\\Desktop\\Codebase\\Python_Eiit_RyR\\a2_Analyser\\database\\output.db\n"
     ]
    }
   ],
   "source": [
    "#% pip install openpyxl\n",
    "import os, re, configparser\n",
    "import pandas as pd\n",
    "import numpy as np\n",
    "from globals import glob\n",
    "from utilities_database import prepare_data, prepare_database, consult_database, clear_databases, retrieve_data, rename_index, get_date, get_sigma, rename_limits_table\n",
    "from utilities_analysis import mean_calculator, limits_generator, ini_generator, RyR, z_score_filter, reset_df, capability_calculation\n",
    "from utilities_plotting import plot_scatter, plot_capability, plot_simple_limits\n",
    "import ipywidgets as widgets\n",
    "from ipywidgets import HBox\n",
    "import _db_tools as db\n",
    "##Widgets creation\n",
    "mean_slider = widgets.FloatSlider(value=0.35, min=0.3, max=0.4, step=0.005, description='X-axis mean')\n",
    "range_slider = widgets.IntSlider(value=5, min=1, max=10, step=1, description='X-axis zoom')\n",
    "means_calculation = widgets.ToggleButtons(options=['Global means', 'Per position means'], description='Means algorithm', disabled=False, button_style='', tooltips=['Calculate global means for each limit', 'Calculate means for each position'],)"
   ]
  },
  {
   "cell_type": "code",
   "execution_count": 2,
   "metadata": {},
   "outputs": [
    {
     "name": "stdout",
     "output_type": "stream",
     "text": [
      "Select the tables to load with \"CTRL\" or \"SHIFT\" pressed:\n"
     ]
    },
    {
     "data": {
      "application/vnd.jupyter.widget-view+json": {
       "model_id": "e1237f10de45436e949935f8db46d29a",
       "version_major": 2,
       "version_minor": 0
      },
      "text/plain": [
       "SelectMultiple(description='input db', index=(6, 3), layout=Layout(width='600px'), options=('TOP_PASSAT_B9_lim…"
      ]
     },
     "metadata": {},
     "output_type": "display_data"
    }
   ],
   "source": [
    "##Database access\n",
    "table_list = consult_database(\"input.db\", verbose=False)\n",
    "default_measurements = consult_database(\"input.db\", verbose=False, filter=glob.tooling+\"_measurements_filtered_\")[-1]\n",
    "default_limits = consult_database(\"input.db\", verbose=False, filter=glob.tooling+\"_limits_corrected_\")[-1]\n",
    "tables = widgets.SelectMultiple(options=table_list, value=(default_measurements, default_limits), description='input db', rows=10, layout={'width': '600px'})\n",
    "print('Select the tables to load with \"CTRL\" or \"SHIFT\" pressed:')\n",
    "display(tables)"
   ]
  },
  {
   "cell_type": "code",
   "execution_count": 4,
   "metadata": {},
   "outputs": [
    {
     "name": "stdout",
     "output_type": "stream",
     "text": [
      "Table *VA_007_measurements_filtered_2023y_12m_22d_16h_15m_58s* retrieved succesfully.\n",
      "Table *VA_007_limits_corrected_2023y_12m_22d_16h_12m_50s* retrieved succesfully.\n"
     ]
    }
   ],
   "source": [
    "##Data extraction\n",
    "MEAS = retrieve_data(\"input.db\", tables.value[0])\n",
    "LIMITS = retrieve_data(\"input.db\", tables.value[1])"
   ]
  },
  {
   "cell_type": "code",
   "execution_count": 3,
   "metadata": {},
   "outputs": [],
   "source": [
    "x = pd.concat([MEAS, LIMITS], axis=1)"
   ]
  },
  {
   "cell_type": "code",
   "execution_count": 4,
   "metadata": {},
   "outputs": [
    {
     "ename": "AttributeError",
     "evalue": "'NoneType' object has no attribute 'iloc'",
     "output_type": "error",
     "traceback": [
      "\u001b[1;31m---------------------------------------------------------------------------\u001b[0m",
      "\u001b[1;31mAttributeError\u001b[0m                            Traceback (most recent call last)",
      "Cell \u001b[1;32mIn[4], line 1\u001b[0m\n\u001b[1;32m----> 1\u001b[0m \u001b[43mplot_simple_limits\u001b[49m\u001b[43m(\u001b[49m\u001b[43mMEAS\u001b[49m\u001b[43m,\u001b[49m\u001b[43m \u001b[49m\u001b[43mLIMITS\u001b[49m\u001b[43m,\u001b[49m\u001b[43m \u001b[49m\u001b[43mglob\u001b[49m\u001b[38;5;241;43m.\u001b[39;49m\u001b[43mnests_number\u001b[49m\u001b[43m,\u001b[49m\u001b[43m \u001b[49m\u001b[43mxrange\u001b[49m\u001b[38;5;241;43m=\u001b[39;49m\u001b[43m[\u001b[49m\u001b[38;5;241;43m0.3\u001b[39;49m\u001b[43m,\u001b[49m\u001b[43m \u001b[49m\u001b[38;5;241;43m0.4\u001b[39;49m\u001b[43m]\u001b[49m\u001b[43m,\u001b[49m\u001b[43m \u001b[49m\u001b[43myrange\u001b[49m\u001b[38;5;241;43m=\u001b[39;49m\u001b[43m[\u001b[49m\u001b[38;5;241;43m0.3\u001b[39;49m\u001b[43m,\u001b[49m\u001b[43m \u001b[49m\u001b[38;5;241;43m0.4\u001b[39;49m\u001b[43m]\u001b[49m\u001b[43m,\u001b[49m\u001b[43m \u001b[49m\u001b[43mlimit_filter\u001b[49m\u001b[38;5;241;43m=\u001b[39;49m\u001b[38;5;28;43;01mNone\u001b[39;49;00m\u001b[43m)\u001b[49m\n",
      "File \u001b[1;32mc:\\Users\\lucio\\Desktop\\Codebase\\Python_Eiit_RyR\\a2_Analyser\\notebooks\\utilities_plotting.py:97\u001b[0m, in \u001b[0;36mplot_simple_limits\u001b[1;34m(MEAS, LIMITS, nests_number, xrange, yrange, limit_filter)\u001b[0m\n\u001b[0;32m     95\u001b[0m \u001b[38;5;28;01mfor\u001b[39;00m index \u001b[38;5;129;01min\u001b[39;00m \u001b[38;5;28mrange\u001b[39m(positions\u001b[38;5;241m*\u001b[39m\u001b[38;5;241m2\u001b[39m):\n\u001b[0;32m     96\u001b[0m     \u001b[38;5;28;01mif\u001b[39;00m index \u001b[38;5;241m%\u001b[39m \u001b[38;5;241m2\u001b[39m \u001b[38;5;241m==\u001b[39m \u001b[38;5;241m0\u001b[39m:\n\u001b[1;32m---> 97\u001b[0m         x_limits \u001b[38;5;241m=\u001b[39m \u001b[43mLIMITS\u001b[49m\u001b[38;5;241;43m.\u001b[39;49m\u001b[43miloc\u001b[49m[index]\n\u001b[0;32m     98\u001b[0m         y_limits \u001b[38;5;241m=\u001b[39m LIMITS\u001b[38;5;241m.\u001b[39miloc[index \u001b[38;5;241m+\u001b[39m \u001b[38;5;241m1\u001b[39m]\n\u001b[0;32m     99\u001b[0m         plt\u001b[38;5;241m.\u001b[39mhlines(x_limits\u001b[38;5;241m.\u001b[39mat[\u001b[38;5;124m\"\u001b[39m\u001b[38;5;124mLO_LIMIT\u001b[39m\u001b[38;5;124m\"\u001b[39m], xmin\u001b[38;5;241m=\u001b[39my_limits\u001b[38;5;241m.\u001b[39mat[\u001b[38;5;124m\"\u001b[39m\u001b[38;5;124mLO_LIMIT\u001b[39m\u001b[38;5;124m\"\u001b[39m], xmax\u001b[38;5;241m=\u001b[39my_limits\u001b[38;5;241m.\u001b[39mat[\u001b[38;5;124m\"\u001b[39m\u001b[38;5;124mHI_LIMIT\u001b[39m\u001b[38;5;124m\"\u001b[39m], color\u001b[38;5;241m=\u001b[39m\u001b[38;5;124m\"\u001b[39m\u001b[38;5;124mr\u001b[39m\u001b[38;5;124m\"\u001b[39m, linestyle\u001b[38;5;241m=\u001b[39m\u001b[38;5;124m'\u001b[39m\u001b[38;5;124m-\u001b[39m\u001b[38;5;124m'\u001b[39m)\n",
      "\u001b[1;31mAttributeError\u001b[0m: 'NoneType' object has no attribute 'iloc'"
     ]
    }
   ],
   "source": [
    "plot_simple_limits(MEAS, LIMITS, glob.nests_number, xrange=[0.3, 0.4], yrange=[0.3, 0.4], limit_filter=None)"
   ]
  }
 ],
 "metadata": {
  "kernelspec": {
   "display_name": ".venv",
   "language": "python",
   "name": "python3"
  },
  "language_info": {
   "codemirror_mode": {
    "name": "ipython",
    "version": 3
   },
   "file_extension": ".py",
   "mimetype": "text/x-python",
   "name": "python",
   "nbconvert_exporter": "python",
   "pygments_lexer": "ipython3",
   "version": "3.11.5"
  }
 },
 "nbformat": 4,
 "nbformat_minor": 2
}
