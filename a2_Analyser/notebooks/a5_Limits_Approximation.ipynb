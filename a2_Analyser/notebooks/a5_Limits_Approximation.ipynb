{
 "cells": [
  {
   "cell_type": "code",
   "execution_count": 1,
   "metadata": {},
   "outputs": [
    {
     "name": "stdout",
     "output_type": "stream",
     "text": [
      "Database *input.db* found in: c:\\Users\\lucio\\Desktop\\Codebase\\Python_Eiit_RyR\\a2_Analyser\\database\\input.db\n",
      "Database *output.db* found in: c:\\Users\\lucio\\Desktop\\Codebase\\Python_Eiit_RyR\\a2_Analyser\\database\\output.db\n"
     ]
    }
   ],
   "source": [
    "#% pip install openpyxl\n",
    "import os, re, configparser\n",
    "import pandas as pd\n",
    "import numpy as np\n",
    "from globals import glob\n",
    "from utilities_database import prepare_data, prepare_database, consult_database, clear_databases, retrieve_data, rename_index, get_date, get_sigma, rename_limits_table\n",
    "from utilities_analysis import mean_calculator, limits_generator, ini_generator, RyR, z_score_filter, reset_df, capability_calculation\n",
    "from utilities_plotting import plot_scatter, plot_capability, plot_simple_limits\n",
    "import ipywidgets as widgets\n",
    "from ipywidgets import HBox\n",
    "import _db_tools as db\n",
    "##Widgets creation\n",
    "mean_slider = widgets.FloatSlider(value=0.35, min=0.3, max=0.4, step=0.005, description='X-axis mean')\n",
    "range_slider = widgets.IntSlider(value=5, min=1, max=10, step=1, description='X-axis zoom')\n",
    "means_calculation = widgets.ToggleButtons(options=['Global means', 'Per position means'], description='Means algorithm', disabled=False, button_style='', tooltips=['Calculate global means for each limit', 'Calculate means for each position'],)"
   ]
  },
  {
   "cell_type": "code",
   "execution_count": 2,
   "metadata": {},
   "outputs": [],
   "source": [
    "##Database access\n",
    "table_list = consult_database(\"input.db\", verbose=False)\n",
    "default_measurements = consult_database(\"input.db\", verbose=False, filter=glob.tooling+\"_measurements_filtered_\")[-1]\n",
    "default_limits = consult_database(\"input.db\", verbose=False, filter=glob.tooling+\"_limits_corrected_\")[-1]\n",
    "tables = widgets.SelectMultiple(options=table_list, value=(default_measurements, default_limits), description='input db', rows=10, layout={'width': '600px'})"
   ]
  },
  {
   "cell_type": "code",
   "execution_count": 3,
   "metadata": {},
   "outputs": [
    {
     "name": "stdout",
     "output_type": "stream",
     "text": [
      "Select the tables to load with \"CTRL\" or \"SHIFT\" pressed:\n"
     ]
    },
    {
     "data": {
      "application/vnd.jupyter.widget-view+json": {
       "model_id": "7b84235d50d84f82b43252fd1d1e5f5d",
       "version_major": 2,
       "version_minor": 0
      },
      "text/plain": [
       "SelectMultiple(description='input db', index=(5, 3), layout=Layout(width='600px'), options=('TOP_PASSAT_B9_lim…"
      ]
     },
     "metadata": {},
     "output_type": "display_data"
    },
    {
     "name": "stdout",
     "output_type": "stream",
     "text": [
      "Table *VA_007_measurements_filtered_2023y_12m_23d_22h_06m_55s* retrieved succesfully.\n",
      "Table *VA_007_limits_corrected_2023y_12m_23d_22h_04m_11s* retrieved succesfully.\n"
     ]
    }
   ],
   "source": [
    "##Data extraction\n",
    "print('Select the tables to load with \"CTRL\" or \"SHIFT\" pressed:')\n",
    "display(tables)\n",
    "MEAS = retrieve_data(\"input.db\", next((string for string in tables.value if \"measurements\" in string), None))\n",
    "LIMITS = retrieve_data(\"input.db\", next((string for string in tables.value if \"limits\" in string), None))\n",
    "if MEAS is None or MEAS.empty or LIMITS is None or LIMITS.empty:\n",
    "    print(\"WARNING: Some data might not be correctly retrieved\")"
   ]
  },
  {
   "cell_type": "code",
   "execution_count": 5,
   "metadata": {},
   "outputs": [
    {
     "data": {
      "image/png": "[encoded data removed]",
      "text/plain": [
       "<Figure size 640x480 with 1 Axes>"
      ]
     },
     "metadata": {},
     "output_type": "display_data"
    }
   ],
   "source": [
    "DATA_format = rename_index(pd.concat([MEAS, LIMITS], axis=1))\n",
    "plot_simple_limits(DATA_format, glob.nests_number, xrange=[0.3, 0.4], yrange=[0.3, 0.4], limit_filter=None)"
   ]
  },
  {
   "cell_type": "code",
   "execution_count": 6,
   "metadata": {},
   "outputs": [
    {
     "data": {
      "text/html": [
       "<div>\n",
       "<style scoped>\n",
       "    .dataframe tbody tr th:only-of-type {\n",
       "        vertical-align: middle;\n",
       "    }\n",
       "\n",
       "    .dataframe tbody tr th {\n",
       "        vertical-align: top;\n",
       "    }\n",
       "\n",
       "    .dataframe thead th {\n",
       "        text-align: right;\n",
       "    }\n",
       "</style>\n",
       "<table border=\"1\" class=\"dataframe\">\n",
       "  <thead>\n",
       "    <tr style=\"text-align: right;\">\n",
       "      <th></th>\n",
       "      <th>LO_LIMIT</th>\n",
       "      <th>HI_LIMIT</th>\n",
       "    </tr>\n",
       "  </thead>\n",
       "  <tbody>\n",
       "    <tr>\n",
       "      <th>0</th>\n",
       "      <td>0.313480</td>\n",
       "      <td>0.338480</td>\n",
       "    </tr>\n",
       "    <tr>\n",
       "      <th>1</th>\n",
       "      <td>0.331756</td>\n",
       "      <td>0.364756</td>\n",
       "    </tr>\n",
       "    <tr>\n",
       "      <th>2</th>\n",
       "      <td>0.313480</td>\n",
       "      <td>0.338480</td>\n",
       "    </tr>\n",
       "    <tr>\n",
       "      <th>3</th>\n",
       "      <td>0.331756</td>\n",
       "      <td>0.364756</td>\n",
       "    </tr>\n",
       "    <tr>\n",
       "      <th>4</th>\n",
       "      <td>0.313480</td>\n",
       "      <td>0.338480</td>\n",
       "    </tr>\n",
       "    <tr>\n",
       "      <th>5</th>\n",
       "      <td>0.331756</td>\n",
       "      <td>0.364756</td>\n",
       "    </tr>\n",
       "    <tr>\n",
       "      <th>6</th>\n",
       "      <td>0.313480</td>\n",
       "      <td>0.338480</td>\n",
       "    </tr>\n",
       "    <tr>\n",
       "      <th>7</th>\n",
       "      <td>0.331756</td>\n",
       "      <td>0.364756</td>\n",
       "    </tr>\n",
       "    <tr>\n",
       "      <th>8</th>\n",
       "      <td>0.313480</td>\n",
       "      <td>0.338480</td>\n",
       "    </tr>\n",
       "    <tr>\n",
       "      <th>9</th>\n",
       "      <td>0.331756</td>\n",
       "      <td>0.364756</td>\n",
       "    </tr>\n",
       "    <tr>\n",
       "      <th>10</th>\n",
       "      <td>0.313480</td>\n",
       "      <td>0.338480</td>\n",
       "    </tr>\n",
       "    <tr>\n",
       "      <th>11</th>\n",
       "      <td>0.331756</td>\n",
       "      <td>0.364756</td>\n",
       "    </tr>\n",
       "  </tbody>\n",
       "</table>\n",
       "</div>"
      ],
      "text/plain": [
       "    LO_LIMIT  HI_LIMIT\n",
       "0   0.313480  0.338480\n",
       "1   0.331756  0.364756\n",
       "2   0.313480  0.338480\n",
       "3   0.331756  0.364756\n",
       "4   0.313480  0.338480\n",
       "5   0.331756  0.364756\n",
       "6   0.313480  0.338480\n",
       "7   0.331756  0.364756\n",
       "8   0.313480  0.338480\n",
       "9   0.331756  0.364756\n",
       "10  0.313480  0.338480\n",
       "11  0.331756  0.364756"
      ]
     },
     "execution_count": 6,
     "metadata": {},
     "output_type": "execute_result"
    }
   ],
   "source": [
    "LIMITS"
   ]
  }
 ],
 "metadata": {
  "kernelspec": {
   "display_name": ".venv",
   "language": "python",
   "name": "python3"
  },
  "language_info": {
   "codemirror_mode": {
    "name": "ipython",
    "version": 3
   },
   "file_extension": ".py",
   "mimetype": "text/x-python",
   "name": "python",
   "nbconvert_exporter": "python",
   "pygments_lexer": "ipython3",
   "version": "3.11.5"
  }
 },
 "nbformat": 4,
 "nbformat_minor": 2
}
