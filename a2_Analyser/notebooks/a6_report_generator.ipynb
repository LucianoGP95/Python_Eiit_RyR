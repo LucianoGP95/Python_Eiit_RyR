{
 "cells": [
  {
   "cell_type": "code",
   "execution_count": 1,
   "metadata": {},
   "outputs": [
    {
     "name": "stdout",
     "output_type": "stream",
     "text": [
      "Database *input.db* found in: c:\\Users\\luciano.galan\\Desktop\\Codebase\\Python_Eiit_RyR\\a2_Analyser\\database\\input.db\n",
      "Database *output.db* found in: c:\\Users\\luciano.galan\\Desktop\\Codebase\\Python_Eiit_RyR\\a2_Analyser\\database\\output.db\n"
     ]
    }
   ],
   "source": [
    "#% pip install openpyxl\n",
    "import os, re, configparser\n",
    "import pandas as pd\n",
    "import numpy as np\n",
    "from globals import glob\n",
    "from utilities_database import prepare_data, prepare_database, consult_database, clear_databases, retrieve_data, rename_index, get_date, get_sigma, rename_limits_table\n",
    "from utilities_analysis import mean_calculator, limits_generator, ini_generator, RyR, z_score_filter, reset_df, capability_calculation\n",
    "from utilities_plotting import plot_scatter, plot_capability, plot_simple_limits, plot_to_pdf\n",
    "from utilities_widgets import widget_selector, widget_int_entry, widget_select_one\n",
    "import ipywidgets as widgets\n",
    "from ipywidgets import HBox\n",
    "import PyPDF2 as pdf\n",
    "import _db_tools as db\n",
    "##Widgets creation\n",
    "means_calculation = widget_selector(options=['Global means', 'Per position means'], description='Means algorithm', tooltips=['Calculate global means for each limit', 'Calculate means for each position'])\n",
    "sigma_selector = widget_int_entry(value=6, description=\"Sigma value (1/2 to each tail) selected\")\n",
    "fiber_selection = widgets.Text(value='Guia_Luz_Blanco_FB1_X', placeholder='Type the fiber label', description='Fiber label:', disabled=False)\n",
    "auto_position = widgets.Checkbox(value=True, description='Auto position', layout={'width': '200px'})\n",
    "mean_slider = widgets.FloatSlider(value=0.35, min=0.3, max=0.4, step=0.005, readout_format='.3f', description='X-axis mean')\n",
    "range_slider = widgets.IntSlider(value=5, min=1, max=10, step=1, description='X-axis zoom')"
   ]
  },
  {
   "cell_type": "code",
   "execution_count": 2,
   "metadata": {},
   "outputs": [
    {
     "name": "stdout",
     "output_type": "stream",
     "text": [
      "Files ready for merging:\n",
      "    VA-007_capability_visualization_2024y-01m-10d_17h-12m-12s.pdf\n"
     ]
    }
   ],
   "source": [
    "##File filtering\n",
    "extension = \"pdf\"\n",
    "file_list = os.listdir(\"../a2_output/\")\n",
    "filtered_list = [filename for filename in file_list if filename.endswith(extension)]\n",
    "print(\"Files ready for merging:\")\n",
    "for index, file in enumerate(filtered_list):\n",
    "    print(f\"    {filtered_list[index]}\")"
   ]
  },
  {
   "cell_type": "code",
   "execution_count": 3,
   "metadata": {},
   "outputs": [
    {
     "name": "stdout",
     "output_type": "stream",
     "text": [
      "Common order: Capability report, Capability visualization.\n"
     ]
    },
    {
     "data": {
      "application/vnd.jupyter.widget-view+json": {
       "model_id": "851d354bbb134e89a4474dc12ea15d20",
       "version_major": 2,
       "version_minor": 0
      },
      "text/plain": [
       "SelectMultiple(description='pdf files', layout=Layout(width='600px'), options=('VA-007_capability_visualizatio…"
      ]
     },
     "metadata": {},
     "output_type": "display_data"
    }
   ],
   "source": [
    "tables = widgets.SelectMultiple(options=filtered_list, value=(), description='pdf files', rows=10, layout={'width': '600px'})\n",
    "print(\"Common order: Capability report, Capability visualization.\")\n",
    "display(tables)"
   ]
  },
  {
   "cell_type": "code",
   "execution_count": 4,
   "metadata": {},
   "outputs": [],
   "source": [
    "for file_selected in tables.value:\n",
    "    filepath_selected = os.path.abspath(os.path.join(\"../a2_output/\", file_selected))"
   ]
  },
  {
   "cell_type": "code",
   "execution_count": 5,
   "metadata": {},
   "outputs": [
    {
     "ename": "NameError",
     "evalue": "name 'filepath_selected' is not defined",
     "output_type": "error",
     "traceback": [
      "\u001b[1;31m---------------------------------------------------------------------------\u001b[0m",
      "\u001b[1;31mNameError\u001b[0m                                 Traceback (most recent call last)",
      "Cell \u001b[1;32mIn[5], line 9\u001b[0m\n\u001b[0;32m      6\u001b[0m         merger\u001b[38;5;241m.\u001b[39mwrite(output_file)\n\u001b[0;32m      8\u001b[0m report_name \u001b[38;5;241m=\u001b[39m glob\u001b[38;5;241m.\u001b[39mtooling \u001b[38;5;241m+\u001b[39m \u001b[38;5;124m\"\u001b[39m\u001b[38;5;124m_final_report_\u001b[39m\u001b[38;5;124m\"\u001b[39m \u001b[38;5;241m+\u001b[39m get_date() \u001b[38;5;241m+\u001b[39m \u001b[38;5;124m\"\u001b[39m\u001b[38;5;124m.pdf\u001b[39m\u001b[38;5;124m\"\u001b[39m\n\u001b[1;32m----> 9\u001b[0m merge_pdfs(\u001b[43mfilepath_selected\u001b[49m, os\u001b[38;5;241m.\u001b[39mpath\u001b[38;5;241m.\u001b[39mabspath(os\u001b[38;5;241m.\u001b[39mpath\u001b[38;5;241m.\u001b[39mjoin(\u001b[38;5;124m\"\u001b[39m\u001b[38;5;124m../a2_output/\u001b[39m\u001b[38;5;124m\"\u001b[39m, report_name)))\n",
      "\u001b[1;31mNameError\u001b[0m: name 'filepath_selected' is not defined"
     ]
    }
   ],
   "source": [
    "def merge_pdfs(input_pdfs, output_pdf):\n",
    "    merger = pdf.PdfFileMerger()\n",
    "    for pdf in input_pdfs:\n",
    "        merger.append(pdf)\n",
    "    with open(output_pdf, 'wb') as output_file:\n",
    "        merger.write(output_file)\n",
    "\n",
    "report_name = glob.tooling + \"_final_report_\" + get_date() + \".pdf\"\n",
    "merge_pdfs(filepath_selected, os.path.abspath(os.path.join(\"../a2_output/\", report_name)))\n"
   ]
  }
 ],
 "metadata": {
  "kernelspec": {
   "display_name": ".venv",
   "language": "python",
   "name": "python3"
  },
  "language_info": {
   "codemirror_mode": {
    "name": "ipython",
    "version": 3
   },
   "file_extension": ".py",
   "mimetype": "text/x-python",
   "name": "python",
   "nbconvert_exporter": "python",
   "pygments_lexer": "ipython3",
   "version": "3.11.4"
  }
 },
 "nbformat": 4,
 "nbformat_minor": 2
}
