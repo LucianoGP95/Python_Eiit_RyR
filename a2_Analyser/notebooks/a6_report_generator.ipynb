{
 "cells": [
  {
   "cell_type": "code",
   "execution_count": 1,
   "metadata": {},
   "outputs": [
    {
     "name": "stdout",
     "output_type": "stream",
     "text": [
      "Database *input.db* found in: c:\\Users\\lucio\\Desktop\\Codebase\\Python_Eiit_RyR\\a2_Analyser\\database\\input.db\n",
      "Database *output.db* found in: c:\\Users\\lucio\\Desktop\\Codebase\\Python_Eiit_RyR\\a2_Analyser\\database\\output.db\n"
     ]
    }
   ],
   "source": [
    "#% pip install openpyxl\n",
    "import os, re, configparser\n",
    "import pandas as pd\n",
    "import numpy as np\n",
    "from globals import glob\n",
    "from utilities_database import prepare_data, prepare_database, consult_database, clear_databases, retrieve_data, rename_index, get_date, get_sigma, rename_limits_table\n",
    "from utilities_analysis import mean_calculator, limits_generator, ini_generator, RyR, z_score_filter, reset_df, capability_calculation\n",
    "from utilities_plotting import plot_scatter, plot_capability, plot_simple_limits, plot_to_pdf\n",
    "from utilities_widgets import widget_selector, widget_int_entry, widget_select_one\n",
    "import ipywidgets as widgets\n",
    "from ipywidgets import HBox\n",
    "import PyPDF2 as pdf\n",
    "import _db_tools as db\n",
    "##Widgets creation\n",
    "means_calculation = widget_selector(options=['Global means', 'Per position means'], description='Means algorithm', tooltips=['Calculate global means for each limit', 'Calculate means for each position'])\n",
    "sigma_selector = widget_int_entry(value=6, description=\"Sigma value (1/2 to each tail) selected\")\n",
    "fiber_selection = widgets.Text(value='Guia_Luz_Blanco_FB1_X', placeholder='Type the fiber label', description='Fiber label:', disabled=False)\n",
    "auto_position = widgets.Checkbox(value=True, description='Auto position', layout={'width': '200px'})\n",
    "mean_slider = widgets.FloatSlider(value=0.35, min=0.3, max=0.4, step=0.005, readout_format='.3f', description='X-axis mean')\n",
    "range_slider = widgets.IntSlider(value=5, min=1, max=10, step=1, description='X-axis zoom')"
   ]
  },
  {
   "cell_type": "code",
   "execution_count": 2,
   "metadata": {},
   "outputs": [
    {
     "name": "stdout",
     "output_type": "stream",
     "text": [
      "Files ready for merging:\n",
      "    VA_007_EDA_boxplot_2024y-01m-25d_18h-48m-17s.pdf\n",
      "    VA_007_EDA_boxplot_2024y-01m-25d_18h-49m-45s.pdf\n",
      "    VA_007_EDA_boxplot_2024y-01m-25d_19h-09m-15s.pdf\n",
      "    VA_007_EDA_boxplot_2024y-01m-25d_19h-10m-10s.pdf\n",
      "    VA_007_EDA_boxplot_2024y-01m-25d_19h-11m-09s.pdf\n",
      "    VA_007_EDA_boxplot_2024y-01m-25d_19h-11m-21s.pdf\n",
      "    VA_007_EDA_boxplot_2024y-01m-25d_19h-13m-32s.pdf\n",
      "    VA_007_EDA_boxplot_2024y-01m-25d_19h-20m-48s.pdf\n",
      "    VA_007_EDA_boxplot_2024y-01m-25d_19h-22m-56s.pdf\n",
      "    VA_007_EDA_scatter_2024y-01m-25d_18h-48m-17s.pdf\n",
      "    ...\n"
     ]
    }
   ],
   "source": [
    "##File filtering\n",
    "extension = \"pdf\"\n",
    "file_list = os.listdir(\"../a2_output/reports\")\n",
    "filtered_list = [filename for filename in file_list if filename.endswith(extension)]\n",
    "review_list = filtered_list[0:10] + [\"...\"] if len(filtered_list) > 10 else filtered_list\n",
    "print(\"Files ready for merging:\")\n",
    "for index, file in enumerate(review_list):\n",
    "    print(f\"    {review_list[index]}\")"
   ]
  },
  {
   "cell_type": "code",
   "execution_count": 13,
   "metadata": {},
   "outputs": [
    {
     "name": "stdout",
     "output_type": "stream",
     "text": [
      "Common order: Scatter visualization, Boxplot visualization, Capability report, Capability visualization.\n",
      "Select the tables to load with \"CTRL\" or \"SHIFT\" pressed:\n"
     ]
    },
    {
     "data": {
      "application/vnd.jupyter.widget-view+json": {
       "model_id": "78b34adc6b2549d3bff5ea90148bbb67",
       "version_major": 2,
       "version_minor": 0
      },
      "text/plain": [
       "SelectMultiple(description='pdf files', layout=Layout(width='600px'), options=('VA_007_EDA_boxplot_2024y-01m-2…"
      ]
     },
     "metadata": {},
     "output_type": "display_data"
    }
   ],
   "source": [
    "##Data selection\n",
    "tables = widgets.SelectMultiple(options=filtered_list, value=(), description='pdf files', rows=10, layout={'width': '600px'})\n",
    "print(\"Common order: Scatter visualization, Boxplot visualization, Capability report, Capability visualization.\")\n",
    "print('Select the tables to load with \"CTRL\" or \"SHIFT\" pressed:')\n",
    "display(tables)"
   ]
  },
  {
   "cell_type": "code",
   "execution_count": 18,
   "metadata": {},
   "outputs": [],
   "source": [
    "##Data preparation\n",
    "selected_files = []\n",
    "for file_selected in tables.value:\n",
    "    file_selected = os.path.abspath(os.path.join(\"../a2_output/reports\", file_selected))\n",
    "    selected_files.append(file_selected)"
   ]
  },
  {
   "cell_type": "code",
   "execution_count": 19,
   "metadata": {},
   "outputs": [],
   "source": [
    "def merge_pdfs(input_pdfs, output_pdf):\n",
    "    merger = pdf.PdfMerger()\n",
    "    for file in input_pdfs:\n",
    "        merger.append(file)\n",
    "    with open(output_pdf, 'wb') as output_file:\n",
    "        merger.write(output_file)\n",
    "\n",
    "report_name = glob.tooling + \"_final_report_\" + get_date() + \".pdf\"\n",
    "merge_pdfs(selected_files, os.path.abspath(os.path.join(\"../a2_output/reports\", report_name)))"
   ]
  }
 ],
 "metadata": {
  "kernelspec": {
   "display_name": ".venv",
   "language": "python",
   "name": "python3"
  },
  "language_info": {
   "codemirror_mode": {
    "name": "ipython",
    "version": 3
   },
   "file_extension": ".py",
   "mimetype": "text/x-python",
   "name": "python",
   "nbconvert_exporter": "python",
   "pygments_lexer": "ipython3",
   "version": "3.11.5"
  }
 },
 "nbformat": 4,
 "nbformat_minor": 2
}
