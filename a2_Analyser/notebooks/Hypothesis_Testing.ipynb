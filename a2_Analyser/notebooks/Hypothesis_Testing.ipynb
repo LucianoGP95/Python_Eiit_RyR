{
 "cells": [
  {
   "cell_type": "code",
   "execution_count": 1,
   "metadata": {},
   "outputs": [
    {
     "name": "stdout",
     "output_type": "stream",
     "text": [
      "Sample mean:  8.52\n"
     ]
    }
   ],
   "source": [
    "# Sample data\n",
    "sample_data = [8.2, 9.1, 7.8, 8.5, 9.0]\n",
    "\n",
    "# Calculate the sample mean\n",
    "sample_mean = sum(sample_data) / len(sample_data)\n",
    "print(\"Sample mean: \", sample_mean)"
   ]
  },
  {
   "cell_type": "code",
   "execution_count": 6,
   "metadata": {},
   "outputs": [
    {
     "name": "stdout",
     "output_type": "stream",
     "text": [
      "Sample standard deviation:  0.545\n"
     ]
    }
   ],
   "source": [
    "# Calculate the sample standard deviation\n",
    "sample_std_dev = (sum((x - sample_mean) ** 2 for x in sample_data) / (len(sample_data) - 1)) ** 0.5\n",
    "print(\"Sample standard deviation: \", round(sample_std_dev, 4))"
   ]
  },
  {
   "cell_type": "code",
   "execution_count": 7,
   "metadata": {},
   "outputs": [
    {
     "name": "stdout",
     "output_type": "stream",
     "text": [
      "t-statistic:  -6.072513554980415\n"
     ]
    }
   ],
   "source": [
    "# Calculate the standard error\n",
    "std_error = sample_std_dev / (len(sample_data) ** 0.5)\n",
    "\n",
    "# Calculate the t-statistic\n",
    "t_stat = (sample_mean - 10) / std_error\n",
    "print(\"t-statistic: \", t_stat)"
   ]
  },
  {
   "cell_type": "markdown",
   "metadata": {},
   "source": []
  }
 ],
 "metadata": {
  "kernelspec": {
   "display_name": ".venv",
   "language": "python",
   "name": "python3"
  },
  "language_info": {
   "codemirror_mode": {
    "name": "ipython",
    "version": 3
   },
   "file_extension": ".py",
   "mimetype": "text/x-python",
   "name": "python",
   "nbconvert_exporter": "python",
   "pygments_lexer": "ipython3",
   "version": "3.12.2"
  }
 },
 "nbformat": 4,
 "nbformat_minor": 2
}
