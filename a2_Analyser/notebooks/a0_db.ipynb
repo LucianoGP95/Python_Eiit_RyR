{
 "cells": [
  {
   "cell_type": "markdown",
   "metadata": {
    "slideshow": {
     "slide_type": "slide"
    }
   },
   "source": [
    "Creates the database of the toolings by extracting the output file using RyR Generator target files"
   ]
  },
  {
   "cell_type": "code",
   "execution_count": 1,
   "metadata": {
    "slideshow": {
     "slide_type": "slide"
    }
   },
   "outputs": [
    {
     "name": "stdout",
     "output_type": "stream",
     "text": [
      "Database *input.db* found in: c:\\Users\\lucio\\Desktop\\Codebase\\Python_Eiit_RyR\\a2_Analyser\\database\\input.db\n",
      "Database *output.db* found in: c:\\Users\\lucio\\Desktop\\Codebase\\Python_Eiit_RyR\\a2_Analyser\\database\\output.db\n"
     ]
    }
   ],
   "source": [
    "#% pip install openpyxl\n",
    "import os, re, configparser\n",
    "import pandas as pd\n",
    "import numpy as np\n",
    "from globals import glob\n",
    "from utilities_database import prepare_data, prepare_database, consult_database, clear_databases, retrieve_data, rename_index, get_date, get_sigma, rename_limits_table, show_table\n",
    "from utilities_analysis import mean_calculator, limits_generator, ini_generator, RyR, z_score_filter, reset_df\n",
    "from utilities_plotting import plot_scatter, plot_capability\n",
    "from utilities_widgets import widget_select_one\n",
    "import _db_tools as db"
   ]
  },
  {
   "cell_type": "code",
   "execution_count": 2,
   "metadata": {
    "slideshow": {
     "slide_type": "slide"
    }
   },
   "outputs": [
    {
     "name": "stdout",
     "output_type": "stream",
     "text": [
      "Files ready for storage:\n"
     ]
    },
    {
     "data": {
      "application/vnd.jupyter.widget-view+json": {
       "model_id": "2f83541753bb47daa8e799ec4ce3db22",
       "version_major": 2,
       "version_minor": 0
      },
      "text/plain": [
       "Select(description='Files:', layout=Layout(width='600px'), options=('TOP_PASSAT_B9_2023y-12m-13d_14h-49m-51s.x…"
      ]
     },
     "metadata": {},
     "output_type": "display_data"
    }
   ],
   "source": [
    "##File filtering\n",
    "extension = \"xlsx\"\n",
    "file_list = os.listdir(\"../a1_input/\")\n",
    "filtered_list = [filename for filename in file_list if filename.endswith(extension)]\n",
    "name = next((string for string in filtered_list if glob.tooling in string), None)\n",
    "selected_button = widget_select_one(options=filtered_list, value=name, layout={'width': '600px'})\n",
    "print(\"Files ready for storage:\")\n",
    "display(selected_button)"
   ]
  },
  {
   "cell_type": "code",
   "execution_count": 3,
   "metadata": {
    "slideshow": {
     "slide_type": "slide"
    }
   },
   "outputs": [
    {
     "name": "stdout",
     "output_type": "stream",
     "text": [
      "File ready to add to the database: VA-007_2023y-12m-21d_14h-05m-01s.xlsx\n"
     ]
    }
   ],
   "source": [
    "##Database management\n",
    "name = selected_button.value\n",
    "print(f\"File ready to add to the database: {name}\")"
   ]
  },
  {
   "cell_type": "code",
   "execution_count": 5,
   "metadata": {
    "slideshow": {
     "slide_type": "slide"
    }
   },
   "outputs": [
    {
     "name": "stdout",
     "output_type": "stream",
     "text": [
      "Dataframe stored as *VA_007_2023y_12m_21d_14h_05m_01s_Measurements*\n",
      "Dataframe stored as *VA_007_2023y_12m_21d_14h_05m_01s_Limits*\n",
      "Files renamed for clarity.\n",
      "*input.db* actual contents:\n",
      "    MID_GOLF_PA_FixtureData_2024y_01m_25d_11h_36m_11s\n",
      "    MID_GOLF_PA_Limits_2024y_01m_24d_10h_55m_14s\n",
      "    MID_GOLF_PA_Measurements_2024y_01m_24d_10h_55m_14s\n",
      "    VA_007_Limits_2023y_12m_21d_14h_05m_01s\n",
      "    VA_007_Measurements_2023y_12m_21d_14h_05m_01s\n"
     ]
    }
   ],
   "source": [
    "##Database generation\n",
    "confirmation = input(\"You are going to modify the database. Are you sure you wrote the correct tooling in the globals file? (y/n): \").strip().lower()\n",
    "if confirmation == 'y':\n",
    "    try:\n",
    "        file = selected_button.value \n",
    "        filepath = os.path.join(os.path.abspath(\"../a1_input/\"), file)\n",
    "    except:\n",
    "        print(\"No selected file. Check the selection box.\")\n",
    "        raise SystemExit\n",
    "    df = prepare_data(filepath)\n",
    "    MEAS = prepare_data(filepath, filter=\"Measurements\") #Load the output from RyR_Generator into a df\n",
    "    LIMITS = prepare_data(filepath, filter=\"Limits\") #Load the output from RyR_Generator into a df\n",
    "    file, _ = os.path.splitext(file)\n",
    "    file = re.sub(r'\\W', '_', file)\n",
    "    prepare_database(\"input.db\", MEAS, file+\"_Measurements\") #Store a df for the measures inside the database of the project\n",
    "    prepare_database(\"input.db\", LIMITS, file+\"_Limits\") #Store a df for the limits inside the database of the project\n",
    "    measurements_file = rename_limits_table(\"input.db\", file+\"_Measurements\")\n",
    "    limits_file = rename_limits_table(\"input.db\", file+\"_Limits\")\n",
    "    print(\"Files renamed for clarity.\")\n",
    "    table_names = consult_database(\"input.db\", verbose=True)\n",
    "else:\n",
    "    print(\"Operation canceled.\")"
   ]
  },
  {
   "cell_type": "code",
   "execution_count": 4,
   "metadata": {},
   "outputs": [
    {
     "name": "stdout",
     "output_type": "stream",
     "text": [
      "Dataframe stored as *VA_007_2024y_01m_25d_18h_45m_18s_FixtureData*\n",
      "Files renamed for clarity.\n",
      "Table *VA_007_FixtureData_2024y_01m_25d_18h_45m_18s* retrieved succesfully.\n",
      "    Review the fixture metadata:\n"
     ]
    },
    {
     "data": {
      "text/html": [
       "<div>\n",
       "<style scoped>\n",
       "    .dataframe tbody tr th:only-of-type {\n",
       "        vertical-align: middle;\n",
       "    }\n",
       "\n",
       "    .dataframe tbody tr th {\n",
       "        vertical-align: top;\n",
       "    }\n",
       "\n",
       "    .dataframe thead th {\n",
       "        text-align: right;\n",
       "    }\n",
       "</style>\n",
       "<table border=\"1\" class=\"dataframe\">\n",
       "  <thead>\n",
       "    <tr style=\"text-align: right;\">\n",
       "      <th></th>\n",
       "      <th>Tooling data</th>\n",
       "    </tr>\n",
       "  </thead>\n",
       "  <tbody>\n",
       "    <tr>\n",
       "      <th>Tooling name</th>\n",
       "      <td>VA_007</td>\n",
       "    </tr>\n",
       "    <tr>\n",
       "      <th>Lenses per nest</th>\n",
       "      <td>3</td>\n",
       "    </tr>\n",
       "    <tr>\n",
       "      <th>Number of nests</th>\n",
       "      <td>2</td>\n",
       "    </tr>\n",
       "    <tr>\n",
       "      <th>X-axis tolerance</th>\n",
       "      <td>0.0125</td>\n",
       "    </tr>\n",
       "    <tr>\n",
       "      <th>Y-axis tolerance</th>\n",
       "      <td>0.0165</td>\n",
       "    </tr>\n",
       "    <tr>\n",
       "      <th>Lower tolerance</th>\n",
       "      <td>0.02</td>\n",
       "    </tr>\n",
       "    <tr>\n",
       "      <th>Higher tolerance</th>\n",
       "      <td>0.03</td>\n",
       "    </tr>\n",
       "  </tbody>\n",
       "</table>\n",
       "</div>"
      ],
      "text/plain": [
       "                 Tooling data\n",
       "Tooling name           VA_007\n",
       "Lenses per nest             3\n",
       "Number of nests             2\n",
       "X-axis tolerance       0.0125\n",
       "Y-axis tolerance       0.0165\n",
       "Lower tolerance          0.02\n",
       "Higher tolerance         0.03"
      ]
     },
     "metadata": {},
     "output_type": "display_data"
    }
   ],
   "source": [
    "##Add tooling data. Ensure you updated the fixture tooling data in globals.glob\n",
    "name = re.sub(r'\\W', '_', glob.tooling + \"_\" + get_date()) + \"_FixtureData\"\n",
    "confirmation = input(\"You are going to modify the database. Are you sure you wrote the correct tooling in the globals file? (y/n): \").strip().lower()\n",
    "if confirmation == 'y':\n",
    "    FIXTURE_DATA = pd.DataFrame(data=[glob.tooling, glob.lenses_per_nest, glob.nests_number,\n",
    "                                glob.x_tolerance, glob.y_tolerance, glob.lo_tolerance,\n",
    "                                glob.hi_tolerance], index=[\"Tooling name\", \"Lenses per nest\",\n",
    "                                \"Number of nests\", \"X-axis tolerance\", \"Y-axis tolerance\", \"Lower tolerance\",\n",
    "                                \"Higher tolerance\"])\n",
    "    FIXTURE_DATA.rename(columns={0:\"Tooling data\"}, inplace=True)\n",
    "    prepare_database(\"input.db\", FIXTURE_DATA, name, add_index=True) #Store a df for the fixture data inside the database of the project\n",
    "    fixture_data = rename_limits_table(\"input.db\", name)\n",
    "    print(\"Files renamed for clarity.\")\n",
    "    #table_names = consult_database(\"input.db\", verbose=True)\n",
    "    FIXTURE_DATA = retrieve_data(\"input.db\", fixture_data, index_col=\"index\")\n",
    "    print(\"    Review the fixture metadata:\")\n",
    "    display(FIXTURE_DATA)\n",
    "else:\n",
    "    print(\"Operation canceled.\")"
   ]
  },
  {
   "cell_type": "code",
   "execution_count": 7,
   "metadata": {
    "slideshow": {
     "slide_type": "slide"
    }
   },
   "outputs": [
    {
     "name": "stdout",
     "output_type": "stream",
     "text": [
      "Database *input.db* cleared successfully.\n",
      "Database *output.db* cleared successfully.\n"
     ]
    }
   ],
   "source": [
    "###WARNING###\n",
    "clear_databases([\"input.db\", \"output.db\"])"
   ]
  }
 ],
 "metadata": {
  "celltoolbar": "Slideshow",
  "kernelspec": {
   "display_name": "Python 3 (ipykernel)",
   "language": "python",
   "name": "python3"
  },
  "language_info": {
   "codemirror_mode": {
    "name": "ipython",
    "version": 3
   },
   "file_extension": ".py",
   "mimetype": "text/x-python",
   "name": "python",
   "nbconvert_exporter": "python",
   "pygments_lexer": "ipython3",
   "version": "3.11.5"
  }
 },
 "nbformat": 4,
 "nbformat_minor": 4
}
