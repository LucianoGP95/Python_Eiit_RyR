{
 "cells": [
  {
   "cell_type": "markdown",
   "metadata": {},
   "source": [
    "Creates the database of the toolings by extracting the output file using RyR Generator target files"
   ]
  },
  {
   "cell_type": "code",
   "execution_count": 11,
   "metadata": {},
   "outputs": [],
   "source": [
    "#% pip install openpyxl\n",
    "import os, re, configparser\n",
    "import pandas as pd\n",
    "import numpy as np\n",
    "from globals import glob\n",
    "from utilities_database import prepare_data, prepare_database, consult_database, clear_databases, retrieve_data, rename_index, get_date, get_sigma, rename_limits_table\n",
    "from utilities_analysis import mean_calculator, limits_generator, ini_generator, RyR, z_score_filter, reset_df\n",
    "from utilities_plotting import plot_scatter, plot_capability\n",
    "import _db_tools as db"
   ]
  },
  {
   "cell_type": "code",
   "execution_count": 12,
   "metadata": {},
   "outputs": [
    {
     "name": "stdout",
     "output_type": "stream",
     "text": [
      "Files ready for storage:\n",
      "    TOP_PASSAT_B9_2023y-12m-13d_14h-49m-51s.xlsx\n",
      "    VA-007_2023y-12m-21d_14h-05m-01s.xlsx\n",
      "\n",
      "\n"
     ]
    }
   ],
   "source": [
    "#File filtering\n",
    "extension = \"xlsx\"\n",
    "file_list = os.listdir(\"../a1_input/\")\n",
    "filtered_list = [filename for filename in file_list if filename.endswith(extension)]\n",
    "print(\"Files ready for storage:\")\n",
    "for file in filtered_list:\n",
    "    print(f\"    {file}\")\n",
    "print(\"\\n\")"
   ]
  },
  {
   "cell_type": "code",
   "execution_count": 13,
   "metadata": {},
   "outputs": [
    {
     "name": "stdout",
     "output_type": "stream",
     "text": [
      "Dataframe stored as *TOP_PASSAT_B9_2023y_12m_13d_14h_49m_51s_measurements*\n",
      "Dataframe stored as *TOP_PASSAT_B9_2023y_12m_13d_14h_49m_51s_limits*\n",
      "Dataframe stored as *VA_007_2023y_12m_21d_14h_05m_01s_measurements*\n",
      "Dataframe stored as *VA_007_2023y_12m_21d_14h_05m_01s_limits*\n",
      "Limit files renamed for clarity.\n",
      "*input.db* actual contents:\n",
      "    TOP_PASSAT_B9_measurements_2023y_12m_13d_14h_49m_51s\n",
      "    TOP_PASSAT_B9_limits_2023y_12m_13d_14h_49m_51s\n",
      "    VA_007_measurements_2023y_12m_21d_14h_05m_01s\n",
      "    VA_007_limits_2023y_12m_21d_14h_05m_01s\n"
     ]
    }
   ],
   "source": [
    "#Database generation\n",
    "confirmation = input(\"You are going to modify the database. Are you sure you wrote the correct tooling in the globals file? (y/n): \").strip().lower()\n",
    "filepaths = []; filepaths_limits = []\n",
    "if confirmation == 'y':\n",
    "    for file in filtered_list:\n",
    "        filepath = os.path.join(os.path.abspath(\"../a1_input/\"), file)\n",
    "        df = prepare_data(filepath)\n",
    "        MEAS = prepare_data(filepath, filter=\"measurements\") #Load the output from RyR_Generator into a df\n",
    "        LIMITS = prepare_data(filepath, filter=\"limits\") #Load the output from RyR_Generator into a df\n",
    "        file, _ = os.path.splitext(file)\n",
    "        file = re.sub(r'\\W', '_', file)\n",
    "        prepare_database(\"input.db\", MEAS, file+\"_measurements\") #Store a df for the measures inside the database of the project\n",
    "        prepare_database(\"input.db\", LIMITS, file+\"_limits\") #Store a df for the limits inside the database of the project\n",
    "        measurements_file = rename_limits_table(\"input.db\", file+\"_measurements\")\n",
    "        limits_file = rename_limits_table(\"input.db\", file+\"_limits\")\n",
    "        filepaths.append(measurements_file); filepaths_limits.append(limits_file)\n",
    "    print(\"Limit files renamed for clarity.\")\n",
    "    consult_database(\"input.db\")\n",
    "else:\n",
    "    print(\"Operation canceled.\")"
   ]
  },
  {
   "cell_type": "code",
   "execution_count": 14,
   "metadata": {},
   "outputs": [
    {
     "name": "stdout",
     "output_type": "stream",
     "text": [
      "Latest tables: \n",
      "['VA_007_measurements_2023y_12m_21d_14h_05m_01s', 'VA_007_limits_2023y_12m_21d_14h_05m_01s']\n",
      "Table *VA_007_measurements_2023y_12m_21d_14h_05m_01s* retrieved succesfully.\n",
      "Table *VA_007_limits_2023y_12m_21d_14h_05m_01s* retrieved succesfully.\n"
     ]
    }
   ],
   "source": [
    "#Database management\n",
    "table_names = [filepaths[-1], filepaths_limits[-1]]\n",
    "print(\"Latest tables: \")\n",
    "print(table_names)\n",
    "measurements = retrieve_data(\"input.db\", table_names[0])\n",
    "limits = retrieve_data(\"input.db\", table_names[1])"
   ]
  },
  {
   "cell_type": "code",
   "execution_count": 15,
   "metadata": {},
   "outputs": [],
   "source": [
    "###WARNING###\n",
    "clear_databases([\"input.db\", \"output.db\"])"
   ]
  },
  {
   "cell_type": "code",
   "execution_count": 16,
   "metadata": {},
   "outputs": [
    {
     "ename": "ModuleNotFoundError",
     "evalue": "No module named 'ipywidgets'",
     "output_type": "error",
     "traceback": [
      "\u001b[1;31m---------------------------------------------------------------------------\u001b[0m",
      "\u001b[1;31mModuleNotFoundError\u001b[0m                       Traceback (most recent call last)",
      "Cell \u001b[1;32mIn[16], line 1\u001b[0m\n\u001b[1;32m----> 1\u001b[0m \u001b[38;5;28;01mimport\u001b[39;00m \u001b[38;5;21;01mipywidgets\u001b[39;00m \u001b[38;5;28;01mas\u001b[39;00m \u001b[38;5;21;01mwidgets\u001b[39;00m\n\u001b[0;32m      2\u001b[0m widgets\u001b[38;5;241m.\u001b[39mIntSlider()\n",
      "\u001b[1;31mModuleNotFoundError\u001b[0m: No module named 'ipywidgets'"
     ]
    }
   ],
   "source": [
    "import ipywidgets as widgets\n",
    "widgets.IntSlider()"
   ]
  }
 ],
 "metadata": {
  "kernelspec": {
   "display_name": "Python 3",
   "language": "python",
   "name": "python3"
  },
  "language_info": {
   "codemirror_mode": {
    "name": "ipython",
    "version": 3
   },
   "file_extension": ".py",
   "mimetype": "text/x-python",
   "name": "python",
   "nbconvert_exporter": "python",
   "pygments_lexer": "ipython3",
   "version": "3.11.5"
  },
  "orig_nbformat": 4
 },
 "nbformat": 4,
 "nbformat_minor": 2
}
