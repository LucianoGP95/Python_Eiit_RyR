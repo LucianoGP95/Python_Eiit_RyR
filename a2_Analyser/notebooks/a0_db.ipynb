{
 "cells": [
  {
   "cell_type": "markdown",
   "metadata": {},
   "source": [
    "Creates the database of the toolings by extracting the output file using RyR Generator target files"
   ]
  },
  {
   "cell_type": "code",
   "execution_count": 1,
   "metadata": {},
   "outputs": [
    {
     "name": "stdout",
     "output_type": "stream",
     "text": [
      "Database *input.db* found in: c:\\Users\\luciano.galan\\Desktop\\Codebase\\Python_Eiit_RyR\\a2_RyR_Analyser\\database\\input.db\n",
      "Database *output.db* found in: c:\\Users\\luciano.galan\\Desktop\\Codebase\\Python_Eiit_RyR\\a2_RyR_Analyser\\database\\output.db\n"
     ]
    }
   ],
   "source": [
    "#% pip install openpyxl\n",
    "import os, re, configparser\n",
    "import pandas as pd\n",
    "import numpy as np\n",
    "from globals import glob\n",
    "from utilities_database import prepare_data, prepare_database, consult_database, clear_databases, retrieve_data, rename_index, get_date, get_sigma, rename_limits_table\n",
    "from utilities_analysis import mean_calculator, limits_generator, ini_generator_personalized, RyR, z_score_filter, reset_df\n",
    "from utilities_plotting import plot_scatter, plot_capability\n",
    "import _db_tools as db"
   ]
  },
  {
   "cell_type": "code",
   "execution_count": 2,
   "metadata": {},
   "outputs": [
    {
     "name": "stdout",
     "output_type": "stream",
     "text": [
      "Files ready for storage:\n",
      "    TOP_PASSAT_B9_2023y-12m-13d_14h-49m-51s.xlsx\n",
      "\n",
      "\n"
     ]
    }
   ],
   "source": [
    "#File filtering\n",
    "extension = \"xlsx\"\n",
    "file_list = os.listdir(\"../a1_input/\")\n",
    "filtered_list = [filename for filename in file_list if filename.endswith(extension)]\n",
    "print(\"Files ready for storage:\")\n",
    "for file in filtered_list:\n",
    "    print(f\"    {file}\")\n",
    "print(\"\\n\")"
   ]
  },
  {
   "cell_type": "code",
   "execution_count": 3,
   "metadata": {},
   "outputs": [
    {
     "name": "stdout",
     "output_type": "stream",
     "text": [
      "Dataframe stored as *TOP_PASSAT_B9_2023y_12m_13d_14h_49m_51s_measurements*\n",
      "Dataframe stored as *TOP_PASSAT_B9_2023y_12m_13d_14h_49m_51s_limits*\n",
      "Limit files renamed for clarity.\n",
      "*input.db* actual contents:\n",
      "    TOP_PASSAT_B9_measurements_2023y_12m_13d_14h_49m_51s\n",
      "    TOP_PASSAT_B9_limits_2023y_12m_13d_14h_49m_51s\n"
     ]
    }
   ],
   "source": [
    "#Database generation\n",
    "confirmation = input(\"You are going to modify the database. Are you sure you wrote the correct tooling in the globals file? (y/n): \").strip().lower()\n",
    "filepaths = []; filepaths_limits = []\n",
    "if confirmation == 'y':\n",
    "    for file in filtered_list:\n",
    "        filepath = os.path.join(os.path.abspath(\"../a1_input/\"), file)\n",
    "        df = prepare_data(filepath)\n",
    "        MEAS = prepare_data(filepath, filter=\"measurements\") #Load the output from RyR_Generator into a df\n",
    "        LIMITS = prepare_data(filepath, filter=\"limits\") #Load the output from RyR_Generator into a df\n",
    "        file, _ = os.path.splitext(file)\n",
    "        file = re.sub(r'\\W', '_', file)\n",
    "        prepare_database(\"input.db\", MEAS, file+\"_measurements\") #Store a df for the measures inside the database of the project\n",
    "        prepare_database(\"input.db\", LIMITS, file+\"_limits\") #Store a df for the limits inside the database of the project\n",
    "        measurements_file = rename_limits_table(\"input.db\", file+\"_measurements\")\n",
    "        limits_file = rename_limits_table(\"input.db\", file+\"_limits\")\n",
    "        filepaths.append(measurements_file); filepaths_limits.append(limits_file)\n",
    "    print(\"Limit files renamed for clarity.\")\n",
    "    consult_database(\"input.db\")\n",
    "else:\n",
    "    print(\"Operation canceled.\")"
   ]
  },
  {
   "cell_type": "code",
   "execution_count": 4,
   "metadata": {},
   "outputs": [
    {
     "name": "stdout",
     "output_type": "stream",
     "text": [
      "Latest tables: \n",
      "['TOP_PASSAT_B9_measurements_2023y_12m_13d_14h_49m_51s', 'TOP_PASSAT_B9_limits_2023y_12m_13d_14h_49m_51s']\n",
      "Table *TOP_PASSAT_B9_measurements_2023y_12m_13d_14h_49m_51s* retrieved succesfully.\n",
      "Table *TOP_PASSAT_B9_limits_2023y_12m_13d_14h_49m_51s* retrieved succesfully.\n"
     ]
    }
   ],
   "source": [
    "#Database management\n",
    "table_names = [filepaths[0], filepaths_limits[0]]\n",
    "print(\"Latest tables: \")\n",
    "print(table_names)\n",
    "measurements = retrieve_data(\"input.db\", table_names[0])\n",
    "limits = retrieve_data(\"input.db\", table_names[1])"
   ]
  },
  {
   "cell_type": "code",
   "execution_count": 5,
   "metadata": {},
   "outputs": [],
   "source": [
    "###WARNING###\n",
    "clear_databases([\"input.db\", \"output.db\"])"
   ]
  }
 ],
 "metadata": {
  "kernelspec": {
   "display_name": "Python 3",
   "language": "python",
   "name": "python3"
  },
  "language_info": {
   "codemirror_mode": {
    "name": "ipython",
    "version": 3
   },
   "file_extension": ".py",
   "mimetype": "text/x-python",
   "name": "python",
   "nbconvert_exporter": "python",
   "pygments_lexer": "ipython3",
   "version": "3.11.4"
  },
  "orig_nbformat": 4
 },
 "nbformat": 4,
 "nbformat_minor": 2
}
