{
 "cells": [
  {
   "cell_type": "markdown",
   "metadata": {},
   "source": [
    "Creates the database of the toolings by extracting the output file using RyR Generator target files"
   ]
  },
  {
   "cell_type": "code",
   "execution_count": 2,
   "metadata": {},
   "outputs": [
    {
     "name": "stdout",
     "output_type": "stream",
     "text": [
      "Database *input.db* found in: c:\\Users\\lucio\\Desktop\\Codebase\\Python_Eiit_RyR\\a2_Analyser\\database\\input.db\n",
      "Database *output.db* found in: c:\\Users\\lucio\\Desktop\\Codebase\\Python_Eiit_RyR\\a2_Analyser\\database\\output.db\n"
     ]
    }
   ],
   "source": [
    "#% pip install openpyxl\n",
    "import os, re, configparser\n",
    "import pandas as pd\n",
    "import numpy as np\n",
    "from globals import glob\n",
    "from utilities_database import prepare_data, prepare_database, consult_database, clear_databases, retrieve_data, rename_index, get_date, get_sigma, rename_limits_table\n",
    "from utilities_analysis import mean_calculator, limits_generator, ini_generator, RyR, z_score_filter, reset_df\n",
    "from utilities_plotting import plot_scatter, plot_capability\n",
    "import _db_tools as db"
   ]
  },
  {
   "cell_type": "code",
   "execution_count": 3,
   "metadata": {},
   "outputs": [
    {
     "name": "stdout",
     "output_type": "stream",
     "text": [
      "Files ready for storage:\n",
      "    TOP_PASSAT_B9_2023y-12m-13d_14h-49m-51s.xlsx\n",
      "    VA-007_2023y-12m-21d_14h-05m-01s.xlsx\n",
      "\n",
      "\n"
     ]
    }
   ],
   "source": [
    "##File filtering\n",
    "extension = \"xlsx\"\n",
    "file_list = os.listdir(\"../a1_input/\")\n",
    "filtered_list = [filename for filename in file_list if filename.endswith(extension)]\n",
    "print(\"Files ready for storage:\")\n",
    "for file in filtered_list:\n",
    "    print(f\"    {file}\")\n",
    "print(\"\\n\")"
   ]
  },
  {
   "cell_type": "code",
   "execution_count": 7,
   "metadata": {},
   "outputs": [
    {
     "name": "stdout",
     "output_type": "stream",
     "text": [
      "Dataframe stored as *TOP_PASSAT_B9_2023y_12m_13d_14h_49m_51s_measurements*\n",
      "Dataframe stored as *TOP_PASSAT_B9_2023y_12m_13d_14h_49m_51s_limits*\n",
      "Dataframe stored as *VA_007_2023y_12m_21d_14h_05m_01s_measurements*\n",
      "Dataframe stored as *VA_007_2023y_12m_21d_14h_05m_01s_limits*\n",
      "Files renamed for clarity.\n",
      "*input.db* actual contents:\n",
      "    TOP_PASSAT_B9_limits_2023y_12m_13d_14h_49m_51s\n",
      "    TOP_PASSAT_B9_measurements_2023y_12m_13d_14h_49m_51s\n",
      "    VA_007_limits_2023y_12m_21d_14h_05m_01s\n",
      "    VA_007_measurements_2023y_12m_21d_14h_05m_01s\n"
     ]
    }
   ],
   "source": [
    "##Database generation\n",
    "confirmation = input(\"You are going to modify the database. Are you sure you wrote the correct tooling in the globals file? (y/n): \").strip().lower()\n",
    "filepaths = []; filepaths_limits = []\n",
    "if confirmation == 'y':\n",
    "    for file in filtered_list:\n",
    "        filepath = os.path.join(os.path.abspath(\"../a1_input/\"), file)\n",
    "        df = prepare_data(filepath)\n",
    "        MEAS = prepare_data(filepath, filter=\"measurements\") #Load the output from RyR_Generator into a df\n",
    "        LIMITS = prepare_data(filepath, filter=\"limits\") #Load the output from RyR_Generator into a df\n",
    "        file, _ = os.path.splitext(file)\n",
    "        file = re.sub(r'\\W', '_', file)\n",
    "        prepare_database(\"input.db\", MEAS, file+\"_measurements\") #Store a df for the measures inside the database of the project\n",
    "        prepare_database(\"input.db\", LIMITS, file+\"_limits\") #Store a df for the limits inside the database of the project\n",
    "        measurements_file = rename_limits_table(\"input.db\", file+\"_measurements\")\n",
    "        limits_file = rename_limits_table(\"input.db\", file+\"_limits\")\n",
    "        filepaths.append(measurements_file); filepaths_limits.append(limits_file)\n",
    "    print(\"Files renamed for clarity.\")\n",
    "    table_names = consult_database(\"input.db\", verbose=True)\n",
    "else:\n",
    "    print(\"Operation canceled.\")"
   ]
  },
  {
   "cell_type": "code",
   "execution_count": 11,
   "metadata": {},
   "outputs": [
    {
     "name": "stdout",
     "output_type": "stream",
     "text": [
      "Latest tables added: \n",
      "    TOP_PASSAT_B9_limits_2023y_12m_13d_14h_49m_51s\n",
      "    TOP_PASSAT_B9_measurements_2023y_12m_13d_14h_49m_51s\n",
      "    VA_007_limits_2023y_12m_21d_14h_05m_01s\n",
      "    VA_007_measurements_2023y_12m_21d_14h_05m_01s\n",
      "Table *TOP_PASSAT_B9_limits_2023y_12m_13d_14h_49m_51s* retrieved succesfully.\n",
      "Table *TOP_PASSAT_B9_measurements_2023y_12m_13d_14h_49m_51s* retrieved succesfully.\n"
     ]
    }
   ],
   "source": [
    "##Database management\n",
    "try:\n",
    "    print(\"Latest tables added: \")\n",
    "    for table in table_names:\n",
    "        print(f\"    {table}\")\n",
    "    measurements = retrieve_data(\"input.db\", table_names[0])\n",
    "    limits = retrieve_data(\"input.db\", table_names[1])\n",
    "except Exception as e:\n",
    "    consult_database(\"input.db\")"
   ]
  },
  {
   "cell_type": "code",
   "execution_count": 6,
   "metadata": {},
   "outputs": [
    {
     "name": "stdout",
     "output_type": "stream",
     "text": [
      "Database *input.db* cleared successfully.\n",
      "Database *output.db* cleared successfully.\n"
     ]
    }
   ],
   "source": [
    "###WARNING###\n",
    "clear_databases([\"input.db\", \"output.db\"])"
   ]
  }
 ],
 "metadata": {
  "kernelspec": {
   "display_name": "Python 3",
   "language": "python",
   "name": "python3"
  },
  "language_info": {
   "codemirror_mode": {
    "name": "ipython",
    "version": 3
   },
   "file_extension": ".py",
   "mimetype": "text/x-python",
   "name": "python",
   "nbconvert_exporter": "python",
   "pygments_lexer": "ipython3",
   "version": "3.11.5"
  },
  "orig_nbformat": 4
 },
 "nbformat": 4,
 "nbformat_minor": 2
}
