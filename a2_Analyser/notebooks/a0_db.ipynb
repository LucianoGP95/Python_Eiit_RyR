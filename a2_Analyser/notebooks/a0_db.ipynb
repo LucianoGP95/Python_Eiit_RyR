{
 "cells": [
  {
   "cell_type": "markdown",
   "metadata": {
    "slideshow": {
     "slide_type": "slide"
    }
   },
   "source": [
    "Creates the database of the toolings by extracting the output file using RyR Generator target files"
   ]
  },
  {
   "cell_type": "code",
   "execution_count": 1,
   "metadata": {
    "slideshow": {
     "slide_type": "slide"
    }
   },
   "outputs": [
    {
     "name": "stdout",
     "output_type": "stream",
     "text": [
      "Database *input.db* found in: c:\\Users\\luciano.galan\\Desktop\\Codebase\\Python_Eiit_RyR\\a2_Analyser\\database\\input.db\n",
      "Database *output.db* found in: c:\\Users\\luciano.galan\\Desktop\\Codebase\\Python_Eiit_RyR\\a2_Analyser\\database\\output.db\n"
     ]
    }
   ],
   "source": [
    "#% pip install openpyxl\n",
    "import os, re, configparser\n",
    "import pandas as pd\n",
    "import numpy as np\n",
    "from globals import glob\n",
    "from utilities_database import prepare_data, prepare_database, consult_database, clear_databases, retrieve_data, rename_index, get_date, get_sigma, rename_limits_table, show_table\n",
    "from utilities_analysis import mean_calculator, limits_generator, ini_generator, RyR, z_score_filter, reset_df\n",
    "from utilities_plotting import plot_scatter, plot_capability\n",
    "from utilities_widgets import widget_select_one\n",
    "import _db_tools as db"
   ]
  },
  {
   "cell_type": "code",
   "execution_count": 2,
   "metadata": {
    "slideshow": {
     "slide_type": "slide"
    }
   },
   "outputs": [
    {
     "name": "stdout",
     "output_type": "stream",
     "text": [
      "Files ready for storage:\n"
     ]
    },
    {
     "data": {
      "application/vnd.jupyter.widget-view+json": {
       "model_id": "5fcd06fffa5c4966bc4fbbe72ffb771c",
       "version_major": 2,
       "version_minor": 0
      },
      "text/plain": [
       "Select(description='Files:', layout=Layout(width='600px'), options=('MID_GOLF_PA_2024y-01m-24d_10h-55m-14s.xls…"
      ]
     },
     "metadata": {},
     "output_type": "display_data"
    }
   ],
   "source": [
    "##File filtering\n",
    "extension = \"xlsx\"\n",
    "file_list = os.listdir(\"../a1_input/\")\n",
    "filtered_list = [filename for filename in file_list if filename.endswith(extension)]\n",
    "name = next((string for string in filtered_list if glob.tooling in string), None)\n",
    "selected_button = widget_select_one(options=filtered_list, value=name, layout={'width': '600px'})\n",
    "print(\"Files ready for storage:\")\n",
    "display(selected_button)"
   ]
  },
  {
   "cell_type": "code",
   "execution_count": 3,
   "metadata": {
    "slideshow": {
     "slide_type": "slide"
    }
   },
   "outputs": [
    {
     "name": "stdout",
     "output_type": "stream",
     "text": [
      "File ready to add to the database: MID_GOLF_PA_2024y-01m-24d_10h-55m-14s.xlsx\n"
     ]
    }
   ],
   "source": [
    "##Database management\n",
    "name = selected_button.value\n",
    "print(f\"File ready to add to the database: {name}\")"
   ]
  },
  {
   "cell_type": "code",
   "execution_count": 4,
   "metadata": {
    "slideshow": {
     "slide_type": "slide"
    }
   },
   "outputs": [
    {
     "name": "stdout",
     "output_type": "stream",
     "text": [
      "Dataframe stored as *MID_GOLF_PA_2024y_01m_24d_10h_55m_14s_measurements*\n",
      "Dataframe stored as *MID_GOLF_PA_2024y_01m_24d_10h_55m_14s_limits*\n",
      "Files renamed for clarity.\n",
      "*input.db* actual contents:\n",
      "    MID_GOLF_PA_limits_2024y_01m_24d_10h_55m_14s\n",
      "    MID_GOLF_PA_measurements_2024y_01m_24d_10h_55m_14s\n"
     ]
    }
   ],
   "source": [
    "##Database generation\n",
    "confirmation = input(\"You are going to modify the database. Are you sure you wrote the correct tooling in the globals file? (y/n): \").strip().lower()\n",
    "if confirmation == 'y':\n",
    "    try:\n",
    "        file = selected_button.value \n",
    "        filepath = os.path.join(os.path.abspath(\"../a1_input/\"), file)\n",
    "    except:\n",
    "        print(\"No selected file. Check the selection box.\")\n",
    "        raise SystemExit\n",
    "    df = prepare_data(filepath)\n",
    "    MEAS = prepare_data(filepath, filter=\"measurements\") #Load the output from RyR_Generator into a df\n",
    "    LIMITS = prepare_data(filepath, filter=\"limits\") #Load the output from RyR_Generator into a df\n",
    "    file, _ = os.path.splitext(file)\n",
    "    file = re.sub(r'\\W', '_', file)\n",
    "    prepare_database(\"input.db\", MEAS, file+\"_measurements\") #Store a df for the measures inside the database of the project\n",
    "    prepare_database(\"input.db\", LIMITS, file+\"_limits\") #Store a df for the limits inside the database of the project\n",
    "    measurements_file = rename_limits_table(\"input.db\", file+\"_measurements\")\n",
    "    limits_file = rename_limits_table(\"input.db\", file+\"_limits\")\n",
    "    print(\"Files renamed for clarity.\")\n",
    "    table_names = consult_database(\"input.db\", verbose=True)\n",
    "else:\n",
    "    print(\"Operation canceled.\")"
   ]
  },
  {
   "cell_type": "code",
   "execution_count": 5,
   "metadata": {},
   "outputs": [
    {
     "name": "stdout",
     "output_type": "stream",
     "text": [
      "Dataframe stored as *MID_GOLF_PA_2024y_01m_24d_13h_09m_56s_fixture_data*\n",
      "Files renamed for clarity.\n",
      "*input.db* actual contents:\n",
      "    MID_GOLF_PA_fixture_data_2024y_01m_24d_13h_09m_56s\n",
      "    MID_GOLF_PA_limits_2024y_01m_24d_10h_55m_14s\n",
      "    MID_GOLF_PA_measurements_2024y_01m_24d_10h_55m_14s\n"
     ]
    }
   ],
   "source": [
    "##Add tooling data. Ensure you updated the fixture tooling data in globals.glob\n",
    "name = re.sub(r'\\W', '_', glob.tooling + \"_\" + get_date()) + \"_fixture&data\"\n",
    "confirmation = input(\"You are going to modify the database. Are you sure you wrote the correct tooling in the globals file? (y/n): \").strip().lower()\n",
    "if confirmation == 'y':\n",
    "    FIXTURE_DATA = pd.DataFrame(data=[glob.tooling, glob.lenses_per_nest, glob.nests_number,\n",
    "                                glob.x_tolerance, glob.y_tolerance, glob.lo_tolerance,\n",
    "                                glob.hi_tolerance], index=[\"Tooling name\", \"Lenses per nest\",\n",
    "                                \"Number of nests\", \"X-axis tolerance\", \"Y-axis tolerance\", \"Lower tolerance\",\n",
    "                                \"Higher tolerance\"])\n",
    "    FIXTURE_DATA.rename(columns={0:\"Tooling data\"}, inplace=True)\n",
    "    prepare_database(\"input.db\", FIXTURE_DATA, name, add_index=True) #Store a df for the fixture data inside the database of the project\n",
    "    fixture_data = rename_limits_table(\"input.db\", name)\n",
    "    print(\"Files renamed for clarity.\")\n",
    "    table_names = consult_database(\"input.db\", verbose=True)\n",
    "else:\n",
    "    print(\"Operation canceled.\")"
   ]
  },
  {
   "cell_type": "code",
   "execution_count": 11,
   "metadata": {
    "slideshow": {
     "slide_type": "slide"
    }
   },
   "outputs": [
    {
     "name": "stdout",
     "output_type": "stream",
     "text": [
      "Database *input.db* cleared successfully.\n",
      "Database *output.db* cleared successfully.\n"
     ]
    }
   ],
   "source": [
    "###WARNING###\n",
    "clear_databases([\"input.db\", \"output.db\"])"
   ]
  },
  {
   "cell_type": "code",
   "execution_count": 4,
   "metadata": {},
   "outputs": [
    {
     "name": "stdout",
     "output_type": "stream",
     "text": [
      "table 1: MID_GOLF_PA_fixture_data_2024y_01m_24d_13h_09m_56s\n",
      "    Rows: []\n",
      "    Columns: 2\n",
      "Columns name: ('index', 'Tooling data')\n",
      "    ('Tooling name', 'MID_GOLF_PA')\n",
      "    ('Lenses per nest', '3')\n",
      "    ('number of nests', '4')\n",
      "    ('x-axis tolerance', '0.0125')\n",
      "    ('y-axis tolerance', '0.0165')\n",
      "    ('lower tolerance', '0.02')\n",
      "    ('higher tolerance', '0.03')\n"
     ]
    }
   ],
   "source": [
    "show_table(\"input.db\", \"MID_GOLF_PA_fixture_data_2024y_01m_24d_13h_09m_56s\")"
   ]
  }
 ],
 "metadata": {
  "celltoolbar": "Slideshow",
  "kernelspec": {
   "display_name": "Python 3 (ipykernel)",
   "language": "python",
   "name": "python3"
  },
  "language_info": {
   "codemirror_mode": {
    "name": "ipython",
    "version": 3
   },
   "file_extension": ".py",
   "mimetype": "text/x-python",
   "name": "python",
   "nbconvert_exporter": "python",
   "pygments_lexer": "ipython3",
   "version": "3.11.4"
  }
 },
 "nbformat": 4,
 "nbformat_minor": 4
}
