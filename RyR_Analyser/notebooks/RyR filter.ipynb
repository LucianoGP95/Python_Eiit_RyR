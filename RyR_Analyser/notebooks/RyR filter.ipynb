{
 "cells": [
  {
   "cell_type": "code",
   "execution_count": 4,
   "metadata": {},
   "outputs": [],
   "source": [
    "#Packages\n",
    "import openpyxl\n",
    "import pandas as pd\n",
    "import sklearn as sk\n",
    "import matplotlib.pyplot as plt\n",
    "import numpy as np\n",
    "import sys\n",
    "sys.path.append(\"../tools/\")\n",
    "import _db_tools as db\n",
    "\n",
    "#Helper functions\n",
    "def prepare_data(target):\n",
    "    data = pd.read_excel(target) #Import the RyR generator output\n",
    "    df = data.iloc[2:, 1:-2] #Slices the measures\n",
    "    df.reset_index(drop=True, inplace=True) #Reset rows index\n",
    "    df.columns = range(df.shape[1]) #Reset columns index\n",
    "    dbh.store_df(df, \"measures\") #Store the dataframe in the connected database\n",
    "    dbh.consult_tables() #Checks results\n",
    "\n",
    "def RyR(dataframe):\n",
    "    \"\"\"Calculates and prints the RyR values for both fibers, including a cualitative evaluation\"\"\"\n",
    "    i = 0; df_RyR = [] #Preallocate a counter and an empty dataframe where to add the rows\n",
    "    std = dataframe.iloc[:, :-2].std(axis=1) #Standard deviation for each row, excluding limits\n",
    "    for index, _ in enumerate(range(dataframe.shape[0])):\n",
    "        i+= 1\n",
    "        RyR = (6*std.iloc[index]/(dataframe.iloc[index,-1]-dataframe.iloc[index,-2]))*100 #Calculates RyR for the whole dataframe\n",
    "        df_RyR.append(float(RyR)) #Adds the values of RyR to a ndarray\n",
    "    df_RyR = pd.DataFrame(df_RyR) #Builds a new dataframe with the RyR values\n",
    "    x_fiber = df_RyR[df_RyR.index % 2 != 0] #Indexes the fiber x RyR values in a new dataframe\n",
    "    y_fiber = df_RyR[df_RyR.index % 2 == 0] #Indexes the fiber y RyR values in a new dataframe\n",
    "    dfx = pd.DataFrame(x_fiber).reset_index(drop=True) #Resets row index\n",
    "    dfy = pd.DataFrame(y_fiber).reset_index(drop=True) #Resets row index\n",
    "    for i, _ in enumerate(range(dfx.shape[0])): #Prints the dataframe for fiber x row by row indexing with the counter\n",
    "        Pass = \"Correct\" if dfx.iloc[i, 0] <= 10 else (\"Low fail\" if 10 <= dfx.iloc[i, 0] <= 25 else \"High fail\")\n",
    "        print(f'RyR Guide fbx {dfx.index[i]+1}: ' + str(dfx.iloc[i, 0]) +' %' + ' Status: ' + Pass)\n",
    "    print(\"\")\n",
    "    for i, _ in enumerate(range(dfy.shape[0])): #Prints the dataframe for fiber y row by row\n",
    "        Pass = \"Correct\" if dfy.iloc[i, 0] <= 10 else (\"Low fail\" if 10 <= dfy.iloc[i, 0] <= 25 else \"High fail\")\n",
    "        print(f'RyR Guide fby {dfy.index[i]+1}: ' + str(dfy.iloc[i, 0]) +' %' + ' Status: ' + Pass)\n",
    "    return dfx, dfy\n",
    "\n",
    "def z_score_filter(dataframe, threshold):\n",
    "    \"\"\"Applies a z-score to a Dataframe, filtering values that don't apply.\"\"\"\n",
    "    rows = []\n",
    "    MEAS = dataframe.iloc[:, :-2] #Indexes the measurements\n",
    "    limits = dataframe.iloc[:, -2:]  #Indexes the limits  \n",
    "    for row in range(MEAS.shape[0]): #Iterates over the rows\n",
    "        row = MEAS.iloc[row, :]\n",
    "        z_scores = (row - row.mean()) / row.std() #Calculates the z-score\n",
    "        filtered_row = np.where(abs(z_scores) <= threshold, row, np.nan) #Applies the threshold as a filter\n",
    "        rows.append(filtered_row)\n",
    "    filtered_df = pd.DataFrame(rows) #Builds a new dataframe\n",
    "    filtered_df = pd.concat([filtered_df, limits], axis=1) #Adds again the columns\n",
    "    return filtered_df"
   ]
  },
  {
   "cell_type": "code",
   "execution_count": 5,
   "metadata": {},
   "outputs": [
    {
     "name": "stdout",
     "output_type": "stream",
     "text": [
      "../database/database.db found.\n",
      "Dataframe stored as *measures*\n",
      "../database/database.db actual contents:\n",
      "    measures\n",
      "Table measures retrieved succesfully.\n"
     ]
    }
   ],
   "source": [
    "dbh = db.SQLite_Data_Extractor(\"database.db\")\n",
    "prepare_data(\"../data/target.xlsx\")\n",
    "df = dbh.retrieve(\"measures\")"
   ]
  },
  {
   "attachments": {},
   "cell_type": "markdown",
   "metadata": {},
   "source": [
    "RyR calculation"
   ]
  },
  {
   "cell_type": "code",
   "execution_count": null,
   "metadata": {},
   "outputs": [],
   "source": [
    "#Slice the dataframe to obtain only the measures and limits for each fiber\n",
    "df_plus_limits = pd.concat([df, data.iloc[3:, -2:].reset_index(drop=True)], axis=1) #Reset the index to avoid index mismatching\n",
    "df_plus_limits = df_plus_limits.reset_index(drop=True) #Resets the rows index to start in zero again\n",
    "df_plus_limits.columns = range(df_plus_limits.shape[1]) #Resets the columns index to start in zero again\n",
    "#Generate a RyR for each fiber in every scale\n",
    "RyRx, RyRy = RyR(df_plus_limits)"
   ]
  },
  {
   "attachments": {},
   "cell_type": "markdown",
   "metadata": {},
   "source": [
    "Distribution Fitting"
   ]
  },
  {
   "cell_type": "code",
   "execution_count": null,
   "metadata": {},
   "outputs": [],
   "source": [
    "array = df.values #Creates a ndarray with the values of the dataframe\n",
    "fbx_low = array[0::6].reshape(-1, 1) #Index and reshapes the values for every position\n",
    "fby_low = array[1::6].reshape(-1, 1)\n",
    "fbx_medium = array[2::6].reshape(-1, 1)\n",
    "fby_medium = array[2::6].reshape(-1, 1)\n",
    "fbx_high = array[4::6].reshape(-1, 1)\n",
    "fby_high = array[5::6].reshape(-1, 1)\n",
    "values = np.concatenate([[fbx_low], [fby_low], [fbx_medium], [fby_medium], [fbx_high], [fby_high]]).reshape(6, 120)\n",
    "plt.hist(values[np.random.randint(1, 6), :], 120)\n",
    "plt.show()"
   ]
  },
  {
   "attachments": {},
   "cell_type": "markdown",
   "metadata": {},
   "source": [
    "Filtering"
   ]
  },
  {
   "attachments": {},
   "cell_type": "markdown",
   "metadata": {},
   "source": [
    "![title](../media/Z-score.jpg)"
   ]
  },
  {
   "cell_type": "code",
   "execution_count": null,
   "metadata": {},
   "outputs": [],
   "source": [
    "#Filter values by their row z-score\n",
    "z_df = z_score_filter(df_plus_limits, 1)\n",
    "#Plot the filtered values\n",
    "plot_scatter(z_df.iloc[:, :-2], 'x', 'Scatter Plot, fiber X', 'test', 'MEAS', 'Guide fbx:')\n",
    "plot_scatter(z_df.iloc[:, :-2], 'y', 'Scatter Plot, fiber Y', 'test', 'MEAS', 'Guide fby:')"
   ]
  },
  {
   "cell_type": "code",
   "execution_count": null,
   "metadata": {},
   "outputs": [],
   "source": [
    "#Split the dataframe for x fiber and y fiber\n",
    "x_fiber = z_df[z_df.index % 2 == 0]\n",
    "y_fiber = z_df[z_df.index % 2 != 0]\n",
    "#Calculate the new RyR\n",
    "RyRx, RyRy = RyR(z_df)"
   ]
  },
  {
   "cell_type": "code",
   "execution_count": null,
   "metadata": {},
   "outputs": [],
   "source": [
    "print(largest.index[0])"
   ]
  }
 ],
 "metadata": {
  "kernelspec": {
   "display_name": "Python 3",
   "language": "python",
   "name": "python3"
  },
  "language_info": {
   "codemirror_mode": {
    "name": "ipython",
    "version": 3
   },
   "file_extension": ".py",
   "mimetype": "text/x-python",
   "name": "python",
   "nbconvert_exporter": "python",
   "pygments_lexer": "ipython3",
   "version": "3.11.4"
  },
  "orig_nbformat": 4
 },
 "nbformat": 4,
 "nbformat_minor": 2
}
