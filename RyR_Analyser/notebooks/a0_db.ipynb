{
 "cells": [
  {
   "cell_type": "code",
   "execution_count": 5,
   "metadata": {},
   "outputs": [],
   "source": [
    "import sys\n",
    "from __globals import glob\n",
    "from _utilities import prepare_data, prepare_database\n",
    "sys.path.append(\"../tools/\")\n",
    "import _db_tools as db #Personal tool for managing sqlite databases in data science"
   ]
  },
  {
   "cell_type": "code",
   "execution_count": 7,
   "metadata": {},
   "outputs": [
    {
     "name": "stdout",
     "output_type": "stream",
     "text": [
      "../database/database.db found.\n",
      "Dataframe stored as *PASSAT_B9*\n",
      "../database/database.db actual contents:\n",
      "    PASSAT_B9\n",
      "../database/database.db found.\n",
      "Dataframe stored as *PASSAT_B9_limits*\n",
      "../database/database.db actual contents:\n",
      "    PASSAT_B9\n",
      "    PASSAT_B9_limits\n"
     ]
    }
   ],
   "source": [
    "#Database generation\n",
    "confirmation = input(\"You are going to modify the database. Are you sure you wrote the correct tooling? (y/n): \").strip().lower()\n",
    "if confirmation == 'y':\n",
    "    MEAS = prepare_data(\"../a1_input/Target.xlsx\", filter=\"MEAS\") #Load the output from RyR_Generator into a df\n",
    "    LIMITS = prepare_data(\"../a1_input/Target.xlsx\", filter=\"limits\") #Load the output from RyR_Generator into a df\n",
    "    prepare_database(MEAS, glob.tooling) #Store a df for the measures inside the database of the project\n",
    "    prepare_database(LIMITS, glob.tooling+\"_limits\") #Store a df for the limits inside the database of the project\n",
    "else:\n",
    "    print(\"Operation canceled.\")"
   ]
  },
  {
   "cell_type": "code",
   "execution_count": 4,
   "metadata": {},
   "outputs": [
    {
     "name": "stdout",
     "output_type": "stream",
     "text": [
      "../database/database.db found.\n",
      "../database/database.db actual contents:\n"
     ]
    }
   ],
   "source": [
    "#Database management\n",
    "dbh = db.SQLite_Data_Extractor(\"database.db\") #Connect to the database\n",
    "dbh.consult_tables()\n",
    "dbh.examine_table(glob.tooling)\n"
   ]
  },
  {
   "cell_type": "code",
   "execution_count": 3,
   "metadata": {},
   "outputs": [
    {
     "name": "stdout",
     "output_type": "stream",
     "text": [
      "../database/database.db found.\n",
      "Warning: This action will clear all data from the database ../database/database.db.\n",
      "Database cleared successfully.\n"
     ]
    }
   ],
   "source": [
    "dbh = db.SQLite_Data_Extractor(\"database.db\") #Connect to the database\n",
    "dbh.clear_database()"
   ]
  }
 ],
 "metadata": {
  "kernelspec": {
   "display_name": "Python 3",
   "language": "python",
   "name": "python3"
  },
  "language_info": {
   "codemirror_mode": {
    "name": "ipython",
    "version": 3
   },
   "file_extension": ".py",
   "mimetype": "text/x-python",
   "name": "python",
   "nbconvert_exporter": "python",
   "pygments_lexer": "ipython3",
   "version": "3.11.4"
  },
  "orig_nbformat": 4
 },
 "nbformat": 4,
 "nbformat_minor": 2
}
