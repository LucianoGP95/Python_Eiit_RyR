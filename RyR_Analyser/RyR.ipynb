{
 "cells": [
  {
   "cell_type": "code",
   "execution_count": null,
   "metadata": {},
   "outputs": [],
   "source": [
    "#Packages\n",
    "import openpyxl\n",
    "import pandas as pd\n",
    "import sklearn as sk\n",
    "import matplotlib.pyplot as plt\n",
    "import subprocess\n",
    "import numpy as np\n",
    "#Helper functions\n",
    "def plot_scatter_mul(dataframe, guide, title, xlabel, ylabel, legend_label):\n",
    "    i = 0\n",
    "    if guide == 'x':\n",
    "        for index, row in df.iterrows():\n",
    "            if index % 2 != 0: \n",
    "                i+= 1\n",
    "                plt.scatter(list(element + 1 for element in list(range(df.shape[1]))), df.iloc[index], label=legend_label + f'{i}')\n",
    "    elif guide == 'y':\n",
    "        for index, row in df.iterrows():\n",
    "            if index % 2 == 0: \n",
    "                i+= 1\n",
    "                plt.scatter(list(element + 1 for element in list(range(df.shape[1]))), df.iloc[index], label=legend_label + f'{i}')\n",
    "    else: \n",
    "        raise Exception('Select the fiber x or y')\n",
    "    plt.title(title)\n",
    "    plt.xlabel(xlabel)\n",
    "    plt.ylabel(ylabel)\n",
    "    plt.legend(bbox_to_anchor=(1.05, 1), loc='upper left')\n",
    "    plt.show()\n",
    "\n",
    "def RyR(dataframe, guide):\n",
    "    i = 0\n",
    "    dfx = []\n",
    "    dfy = []\n",
    "    std = dataframe.iloc[:, :-2].std(axis=1) #Standard deviation for each row, excluding limits\n",
    "    if guide == 'x':\n",
    "        for index, _ in enumerate(range(dataframe.shape[0])):\n",
    "            if index % 2 != 0: \n",
    "                i+= 1\n",
    "                RyR = (6*std.iloc[index]/(dataframe.iloc[index,-1]-dataframe.iloc[index,-2]))*100\n",
    "                Pass = \"Correcto\" if RyR <= 10 else (\"Fallo ligero\" if 10 <= RyR <= 25 else \"Fallo considerable\")\n",
    "                print(f'RyR Guía fbx {i}: ' + str(RyR) +' %' + ' Estatus: ' + Pass)\n",
    "                dfx.append(float(RyR))\n",
    "        dfx = pd.Series(dfx)\n",
    "        print(\"\")\n",
    "        return dfx\n",
    "    elif guide == 'y':\n",
    "        for index, _ in enumerate(range(dataframe.shape[0])):\n",
    "            if index % 2 == 0: \n",
    "                i+= 1\n",
    "                RyR = (6*std.iloc[index]/(dataframe.iloc[index,-1]-dataframe.iloc[index,-2]))*100\n",
    "                Pass = \"Correcto\" if RyR <= 10 else (\"Fallo ligero\" if 10 <= RyR <= 25 else \"Fallo considerable\")\n",
    "                print(f'RyR Guía fby {i}: ' + str(RyR) +' %' + ' Estatus: ' + Pass)\n",
    "                dfy.append(RyR)\n",
    "        dfy = pd.Series(dfy)\n",
    "        print(\"\")\n",
    "        return dfy\n",
    "    else: \n",
    "        raise Exception('Select the fiber x or y')\n",
    "\n",
    "def z_score_filter(dataframe, threshold):\n",
    "    rows = []\n",
    "    MEAS = dataframe.iloc[:, :-2]\n",
    "    limits = dataframe.iloc[:, -2:]    \n",
    "    for row in range(MEAS.shape[0]):\n",
    "        row = MEAS.iloc[row, :]\n",
    "        z_scores = (row - row.mean()) / row.std()\n",
    "        filtered_row = np.where(abs(z_scores) <= threshold, row, np.nan)\n",
    "        rows.append(filtered_row)\n",
    "    filtered_df = pd.DataFrame(rows)\n",
    "    filtered_df = pd.concat([filtered_df, limits], axis=1)\n",
    "    return filtered_df"
   ]
  },
  {
   "attachments": {},
   "cell_type": "markdown",
   "metadata": {},
   "source": [
    "Data Extraction and visualization"
   ]
  },
  {
   "cell_type": "code",
   "execution_count": null,
   "metadata": {},
   "outputs": [],
   "source": [
    "#Imports the data from a prepocessed working sheet\n",
    "data = pd.read_excel(\"./2_Results/Target.xlsx\", header=None)\n",
    "#Slice the measure from the data\n",
    "df = data.iloc[3:, 1:-2] #Slices the dataframe, deleting the first empty rows and the columns for tags and df_plus_limits\n",
    "df = df.reset_index(drop=True) #Resets the rows index to start in zero again\n",
    "df.columns = range(df.shape[1]) #Resets the columns index to start in zero again\n",
    "#Plots the measures for each scale\n",
    "plot_scatter_mul(df, 'x', 'Scatter Plot, fiber X', 'test', 'MEAS', f'Guía fbx:')\n",
    "plot_scatter_mul(df, 'y', 'Scatter Plot, fiber Y', 'test', 'MEAS', f'Guía fby:')"
   ]
  },
  {
   "attachments": {},
   "cell_type": "markdown",
   "metadata": {},
   "source": [
    "RyR calculation"
   ]
  },
  {
   "cell_type": "code",
   "execution_count": null,
   "metadata": {},
   "outputs": [],
   "source": [
    "#Slices the dataframe to obtain only the measures and limits for each fiber\n",
    "df_plus_limits = pd.concat([df, data.iloc[3:, -2:].reset_index(drop=True)], axis=1) #Reset the index to avoid index mismatching\n",
    "df_plus_limits = df_plus_limits.reset_index(drop=True) #Resets the rows index to start in zero again\n",
    "df_plus_limits.columns = range(df_plus_limits.shape[1]) #Resets the columns index to start in zero again\n",
    "#Generates a RyR for each fiber in every scale\n",
    "dfx = RyR(df_plus_limits, 'x')\n",
    "dfy = RyR(df_plus_limits, 'y')"
   ]
  },
  {
   "attachments": {},
   "cell_type": "markdown",
   "metadata": {},
   "source": [
    "Filtering"
   ]
  },
  {
   "cell_type": "code",
   "execution_count": null,
   "metadata": {},
   "outputs": [],
   "source": [
    "#Filter values by their row z-score\n",
    "z_df = z_score_filter(df_plus_limits, 3)\n",
    "#Split the dataframe for x fiber and y fiber\n",
    "x_fiber = z_df[z_df.index % 2 == 0]\n",
    "y_fiber = z_df[z_df.index % 2 != 0]\n",
    "x_df = pd.DataFrame(z_df, 'x')\n",
    "\n",
    "\n",
    "\n",
    "dfx = RyR(x_df, 'x')\n",
    "dfy = RyR(y_df, 'y')\n"
   ]
  },
  {
   "cell_type": "code",
   "execution_count": null,
   "metadata": {},
   "outputs": [],
   "source": [
    "def RyR(dataframe, guide):\n",
    "    i = 0; dfx = []; dfy = []\n",
    "    std = dataframe.iloc[:, :-2].std(axis=1) #Standard deviation for each row, excluding limits\n",
    "    for index, _ in enumerate(range(dataframe.shape[0])):\n",
    "        i+= 1\n",
    "        RyR = (6*std.iloc[index]/(dataframe.iloc[index,-1]-dataframe.iloc[index,-2]))*100\n",
    "        Pass = \"Correcto\" if RyR <= 10 else (\"Fallo ligero\" if 10 <= RyR <= 25 else \"Fallo considerable\")\n",
    "        df_RyR.append(float(RyR))\n",
    "    x_fiber = df_RyR[df_RyR.index % 2 == 0]\n",
    "    y_fiber = df_RyR[df_RyR.index % 2 != 0]\n",
    "    dfx = pd.Series(x_fiber)\n",
    "    dfy = pd.Series(y_fiber)\n",
    "    print(f'RyR Guía fbx {i}: ' + str(RyR) +' %' + ' Estatus: ' + Pass)\n",
    "    print(\"\")\n",
    "    print(f'RyR Guía fby {i}: ' + str(RyR) +' %' + ' Estatus: ' + Pass)\n",
    "    return dfx, dfy\n",
    "\n",
    "dfx = RyR(x_df, 'x')\n",
    "dfy = RyR(y_df, 'y')\n"
   ]
  }
 ],
 "metadata": {
  "kernelspec": {
   "display_name": "Python 3",
   "language": "python",
   "name": "python3"
  },
  "language_info": {
   "codemirror_mode": {
    "name": "ipython",
    "version": 3
   },
   "file_extension": ".py",
   "mimetype": "text/x-python",
   "name": "python",
   "nbconvert_exporter": "python",
   "pygments_lexer": "ipython3",
   "version": "3.11.3"
  },
  "orig_nbformat": 4
 },
 "nbformat": 4,
 "nbformat_minor": 2
}
